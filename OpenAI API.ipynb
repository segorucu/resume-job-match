{
 "cells": [
  {
   "cell_type": "markdown",
   "metadata": {},
   "source": [
    "### Fetch a job description from elastic search"
   ]
  },
  {
   "cell_type": "code",
   "execution_count": 1,
   "metadata": {},
   "outputs": [],
   "source": [
    "from opensearchpy import OpenSearch, helpers"
   ]
  },
  {
   "cell_type": "code",
   "execution_count": 2,
   "metadata": {},
   "outputs": [],
   "source": [
    "host = 'search-swift-hire-dev-jfmldmym4cfbiwdhwmtuqq6ihy.us-west-2.es.amazonaws.com'\n",
    "port = 443\n",
    "auth = ('swift', 'Hire123!') # For testing only. Don't store credentials in code.\n",
    "\n",
    "es_client = OpenSearch(\n",
    "    hosts = [{'host': host, 'port': port}],\n",
    "    http_compress = True, # enables gzip compression for request bodies\n",
    "    http_auth = auth,\n",
    "    use_ssl = True,\n",
    "    ssl_assert_hostname = False,\n",
    "    ssl_show_warn = False,\n",
    ")"
   ]
  },
  {
   "cell_type": "code",
   "execution_count": 3,
   "metadata": {},
   "outputs": [],
   "source": [
    "ES_JOB_INDEX = 'swifthire_jobs_dev'\n",
    "response = es_client.search(\n",
    "    index=ES_JOB_INDEX,\n",
    "    body={\n",
    "        \"query\": {\n",
    "            \"match\": {\n",
    "                \"searched_job_title\": \"Data Scientist\"\n",
    "            }\n",
    "        }\n",
    "    }\n",
    ")"
   ]
  },
  {
   "cell_type": "code",
   "execution_count": 4,
   "metadata": {},
   "outputs": [],
   "source": [
    "job = response['hits']['hits'][0]"
   ]
  },
  {
   "cell_type": "code",
   "execution_count": 5,
   "metadata": {},
   "outputs": [
    {
     "data": {
      "text/plain": [
       "{'_index': 'swifthire_jobs_dev',\n",
       " '_id': 'y5R9HZABhNg_xFXvWjxh',\n",
       " '_score': 2.6568744,\n",
       " '_source': {'title': 'Senior Data Scientist - Reinforcement Learning',\n",
       "  'companyName': 'Home Depot / THD',\n",
       "  'location': 'Vancouver',\n",
       "  'via': 'via Glassdoor',\n",
       "  'description': \"Position Purpose:\\n\\nThe Sr. Data Scientist is responsible for leading data science initiatives that drive business profitability, increased efficiencies and improved customer experience. This role assists in the development of the Home Depot advanced analytics infrastructure that informs decision making. Sr. Data Scientists are expected to seek out business opportunities to leverage data science... as a competitive advantage. Based on the specific data science team, this role would need to be Proficient in one or more data science specializations, such as optimization, computer vision, recommendation, search or NLP.\\n\\nAs a Sr. Data Scientist, you will serve as a lead on data science projects, collaborating with project/product managers, providing prioritization of tasks, balancing workload and mentoring data scientists on the project team. This role is expected to present insights and recommendations to leaders and business partners and explain the benefits and impacts of the recommended solutions. This role supports the building of skilled and talented data science teams by providing input to staffing needs and participating in the recruiting and hiring process. In addition, Data Scientists collaborate with business partners and cross-functional teams, requiring effective communication skills, building relationships and partnerships, and leveraging business proficiency to solutions and recommendations.\\n\\nResponsibilities:\\n• Design, develop, and implement RL algorithms for complex decision-making problems.\\n• Experiment with different RL architectures and exploration strategies.\\n• Train and evaluate RL models using high-performance computing resources.\\n• Integrate RL models with simulation environments and real-world systems.\\n• Collaborate with researchers, engineers, and product managers to define and execute RL projects.\\n• Continuously monitor and improve the performance of RL models.\\n• Document research findings and technical contributions.\\n\\nKey Responsibilities:\\n• 35% Solution Development - Proficiently design and develop algorithms and models to use against large datasets to create business insights; Execute tasks with high levels of efficiency and quality; Make appropriate selection, utilization and interpretation of advanced analytical methodologies; Effectively communicate insights and recommendations to both technical and non-technical leaders and business customers/partners; Prepare reports, updates and/or presentations related to progress made on a project or solution; Clearly communicate impacts of recommendations to drive alignment and appropriate implementation\\n• 30% Project Management & Team Support - Work with project teams and business partners to determine project goals; Provide direction on prioritization of work and ensure quality of work; Provide mentoring and coaching to more junior roles to support their technical competencies; Collaborate with managers and team in the distribution of workload and resources; Support recruiting and hiring efforts for the team\\n• 20% Business Collaboration - Leverage extensive business knowledge into solution approach; Effectively develop trust and collaboration with internal customers and cross-functional teams; Provide general education on advanced analytics to technical and non-technical business partners; Deep understanding of IT needs for the team to be successful in tackling business problems; Actively seek out new business opportunities to leverage data science as a competitive advantage\\n• 15% Technical Exploration & Development - Seek further knowledge on key developments within data science, technical skill sets, and additional data sources; Participate in the continuous improvement of data science and analytics by developing replicable solutions (for example, codified data products, project documentation, process flowcharts) to ensure solutions are leveraged for future projects; Define best practices and develop clear vision for data analysis and model productionalization; Contribute to library of reusable algorithms for future use, ensuring developed codes are documented\\n\\nDirect Manager/Direct Reports:\\n• This position reports to manager or above\\n• This position has 0 Direct Reports\\n\\nTravel Requirements:\\n• Typically requires overnight travel less than 10% of the time.\\n\\nPhysical Requirements:\\n• Most of the time is spent sitting in a comfortable position and there is frequent opportunity to move about. On rare occasions there may be a need to move or lift light articles.\\n\\nWorking Conditions:\\n• Located in a comfortable indoor area. Any unpleasant conditions would be infrequent and not objectionable.\\n\\nMinimum Qualifications:\\n• Must be eighteen years of age or older.\\n• Must be legally permitted to work in the United States.\\n\\nPreferred Qualifications:\\n• Master's degree in Computer Science, Artificial Intelligence, Mathematics, Statistics or a related field (PhD preferred).\\n• Strong experience with Python programming languages and deep learning frameworks (TensorFlow, PyTorch).\\n• Proven experience in designing and implementing RL algorithms (e.g., Multi-arm Bandits, Contextual Multi-arm bandits, Deep Q-learning, Policy Gradient methods).\\n• Experience with simulation environments (e.g., Gym) or or creating custom environments is a plus.\\n• Excellent understanding of machine learning principles (e.g., supervised learning, unsupervised learning).\\n• Solid foundation in experimentation (A/B) and hypothesis testing.\\n• Excellent communication and collaboration skills.\\n• A passion for innovation and a drive to push the boundaries of RL.\\n\\nMinimum Education:\\n• The knowledge, skills and abilities typically acquired through the completion of a bachelor's degree program or equivalent degree in a field of study related to the job.\\n\\nPreferred Education:\\n• No additional education\\n\\nMinimum Years of Work Experience:\\n• 5\\n\\nPreferred Years of Work Experience:\\n• No additional years of experience\\n\\nMinimum Leadership Experience:\\n• None\\n\\nPreferred Leadership Experience:\\n• None\\n\\nCertifications:\\n• None\\n\\nCompetencies:\\n• Attracts Top Talent: Attracting and selecting the best talent to meet current and future business needs\\n• Business Insight: Applying knowledge of the business and the marketplace to advance the organization's goals\\n• Collaborates: Building partnerships and working collaboratively with others to meet shared objectives\\n• Communicates Effectively: Developing and delivering multi-mode communications that convey a clear understanding of the unique needs of different audiences\\n• Cultivates Innovation: Creating new and better ways for the organization to be successful\\n• Customer Focus: Building strong customer relationships and delivering customer-centric solutions\\n• Develops Talent: Developing people to meet both their career goals and the organization's goals\\n• Directs Work: Provides direction, delegating and removing obstacles to get work done\\n• Drives Results: Consistently achieving results, even under tough circumstances\\n• Nimble Learning: Actively learning through experimentation when tackling new problems, using both successes and failures as learning fodder\\n• Optimizes Work Processes: Knowing the most efficient and effective processes to get things done, with a focus on continuous improvement\\n• Self-Development: Actively seeking new ways to grow and be challenged using both formal and informal development channels\",\n",
       "  'jobHighlights': [{'title': 'Qualifications',\n",
       "    'items': ['Based on the specific data science team, this role would need to be Proficient in one or more data science specializations, such as optimization, computer vision, recommendation, search or NLP',\n",
       "     'Most of the time is spent sitting in a comfortable position and there is frequent opportunity to move about',\n",
       "     'Must be eighteen years of age or older',\n",
       "     'Must be legally permitted to work in the United States',\n",
       "     \"The knowledge, skills and abilities typically acquired through the completion of a bachelor's degree program or equivalent degree in a field of study related to the job\",\n",
       "     'Attracts Top Talent: Attracting and selecting the best talent to meet current and future business needs',\n",
       "     \"Business Insight: Applying knowledge of the business and the marketplace to advance the organization's goals\",\n",
       "     'Communicates Effectively: Developing and delivering multi-mode communications that convey a clear understanding of the unique needs of different audiences',\n",
       "     'Cultivates Innovation: Creating new and better ways for the organization to be successful',\n",
       "     'Customer Focus: Building strong customer relationships and delivering customer-centric solutions',\n",
       "     'Nimble Learning: Actively learning through experimentation when tackling new problems, using both successes and failures as learning fodder',\n",
       "     'Optimizes Work Processes: Knowing the most efficient and effective processes to get things done, with a focus on continuous improvement',\n",
       "     'Self-Development: Actively seeking new ways to grow and be challenged using both formal and informal development channels']},\n",
       "   {'title': 'Responsibilities',\n",
       "    'items': ['Data Scientist is responsible for leading data science initiatives that drive business profitability, increased efficiencies and improved customer experience',\n",
       "     'Data Scientist, you will serve as a lead on data science projects, collaborating with project/product managers, providing prioritization of tasks, balancing workload and mentoring data scientists on the project team',\n",
       "     'This role is expected to present insights and recommendations to leaders and business partners and explain the benefits and impacts of the recommended solutions',\n",
       "     'This role supports the building of skilled and talented data science teams by providing input to staffing needs and participating in the recruiting and hiring process',\n",
       "     'In addition, Data Scientists collaborate with business partners and cross-functional teams, requiring effective communication skills, building relationships and partnerships, and leveraging business proficiency to solutions and recommendations',\n",
       "     'Design, develop, and implement RL algorithms for complex decision-making problems',\n",
       "     'Experiment with different RL architectures and exploration strategies',\n",
       "     'Train and evaluate RL models using high-performance computing resources',\n",
       "     'Integrate RL models with simulation environments and real-world systems',\n",
       "     'Collaborate with researchers, engineers, and product managers to define and execute RL projects',\n",
       "     'Continuously monitor and improve the performance of RL models',\n",
       "     'Document research findings and technical contributions',\n",
       "     '35% Solution Development - Proficiently design and develop algorithms and models to use against large datasets to create business insights; Execute tasks with high levels of efficiency and quality; Make appropriate selection, utilization and interpretation of advanced analytical methodologies; Effectively communicate insights and recommendations to both technical and non-technical leaders and business customers/partners; Prepare reports, updates and/or presentations related to progress made on a project or solution; Clearly communicate impacts of recommendations to drive alignment and appropriate implementation',\n",
       "     '30% Project Management & Team Support - Work with project teams and business partners to determine project goals; Provide direction on prioritization of work and ensure quality of work; Provide mentoring and coaching to more junior roles to support their technical competencies; Collaborate with managers and team in the distribution of workload and resources; Support recruiting and hiring efforts for the team',\n",
       "     '20% Business Collaboration - Leverage extensive business knowledge into solution approach; Effectively develop trust and collaboration with internal customers and cross-functional teams; Provide general education on advanced analytics to technical and non-technical business partners; Deep understanding of IT needs for the team to be successful in tackling business problems; Actively seek out new business opportunities to leverage data science as a competitive advantage',\n",
       "     '15% Technical Exploration & Development - Seek further knowledge on key developments within data science, technical skill sets, and additional data sources; Participate in the continuous improvement of data science and analytics by developing replicable solutions (for example, codified data products, project documentation, process flowcharts) to ensure solutions are leveraged for future projects; Define best practices and develop clear vision for data analysis and model productionalization; Contribute to library of reusable algorithms for future use, ensuring developed codes are documented',\n",
       "     'Located in a comfortable indoor area',\n",
       "     'Any unpleasant conditions would be infrequent and not objectionable',\n",
       "     'Directs Work: Provides direction, delegating and removing obstacles to get work done']},\n",
       "   {'title': 'Benefits', 'items': ['No additional education']}],\n",
       "  'relatedLinks': [{'link': 'https://www.google.com/search?sca_esv=fd6913f0049a1039&sca_upv=1&q=Home+Depot+/+THD&sa=X&ved=0ahUKEwi04tH_st6GAxXXRTABHcOxCTU4ChCYkAIIpQ4',\n",
       "    'text': 'See web results for Home Depot / THD'}],\n",
       "  'extras': ['28 days ago', '100K–220K a year', 'Full-time'],\n",
       "  'metadata': {'postedAt': '28 days ago',\n",
       "   'scheduleType': 'Full-time',\n",
       "   'salary': '100K–220K a year'},\n",
       "  'applyLink': {'title': 'Apply on Glassdoor',\n",
       "   'link': 'https://www.glassdoor.com/job-listing/senior-data-scientist-reinforcement-learning-home-depot-thd-JV_IC1155583_KO0,44_KE45,59.htm?jl=1009244314236&utm_campaign=google_jobs_apply&utm_source=google_jobs_apply&utm_medium=organic'},\n",
       "  'searched_job_title': 'Data Scientist',\n",
       "  'run_time': '2024-06-15'}}"
      ]
     },
     "execution_count": 5,
     "metadata": {},
     "output_type": "execute_result"
    }
   ],
   "source": [
    "job"
   ]
  },
  {
   "cell_type": "markdown",
   "metadata": {},
   "source": [
    "### Use OpenAI to summarize it"
   ]
  },
  {
   "cell_type": "code",
   "execution_count": 6,
   "metadata": {},
   "outputs": [],
   "source": [
    "openai_api_key = # your api key"
   ]
  },
  {
   "cell_type": "code",
   "execution_count": 7,
   "metadata": {},
   "outputs": [],
   "source": [
    "import openai\n",
    "\n"
   ]
  },
  {
   "cell_type": "code",
   "execution_count": 8,
   "metadata": {},
   "outputs": [],
   "source": [
    "import os\n",
    "from openai import OpenAI\n",
    "openai_client = OpenAI(api_key=OPENAI_API_KEY)\n",
    "\n"
   ]
  },
  {
   "cell_type": "code",
   "execution_count": 9,
   "metadata": {},
   "outputs": [
    {
     "name": "stdout",
     "output_type": "stream",
     "text": [
      "SyncPage[Model](data=[Model(id='text-embedding-ada-002', created=1671217299, object='model', owned_by='openai-internal'), Model(id='gpt-4o-mini', created=1721172741, object='model', owned_by='system'), Model(id='gpt-4o-mini-2024-07-18', created=1721172717, object='model', owned_by='system'), Model(id='gpt-4o', created=1715367049, object='model', owned_by='system'), Model(id='whisper-1', created=1677532384, object='model', owned_by='openai-internal'), Model(id='gpt-3.5-turbo', created=1677610602, object='model', owned_by='openai'), Model(id='tts-1', created=1681940951, object='model', owned_by='openai-internal')], object='list')\n"
     ]
    }
   ],
   "source": [
    "from openai import OpenAI\n",
    "\n",
    "client = OpenAI(\n",
    "    api_key=OPENAI_API_KEY  \n",
    ")\n",
    "\n",
    "models = client.models.list()\n",
    "print(models)"
   ]
  },
  {
   "cell_type": "code",
   "execution_count": 10,
   "metadata": {},
   "outputs": [],
   "source": [
    "prompt = f\"\"\"\n",
    "Given the following job description and highlights, summarize the key information, return in point form:\n",
    "- job title:\n",
    "- company:\n",
    "- key skills required:\n",
    "- year of experience required:\n",
    "- location:\n",
    "- salary range:\n",
    "\n",
    "Job Description: {job[\"_source\"][\"description\"]}\n",
    "Job Highlights: {job[\"_source\"][\"jobHighlights\"]}\n",
    "\n",
    "\"\"\"\n",
    "\n",
    "response = openai_client.chat.completions.create(\n",
    "    model='gpt-4o-mini-2024-07-18',\n",
    "    messages=[\n",
    "        {\"role\": \"user\", \"content\": prompt}\n",
    "    ]\n",
    ")\n",
    "\n",
    "summary = response.choices[0].message.content.strip()"
   ]
  },
  {
   "cell_type": "code",
   "execution_count": 11,
   "metadata": {},
   "outputs": [
    {
     "name": "stdout",
     "output_type": "stream",
     "text": [
      "- **Job Title:** Senior Data Scientist  \n",
      "- **Company:** Home Depot  \n",
      "- **Key Skills Required:**  \n",
      "  - Proficiency in data science specializations (optimization, computer vision, recommendation, search, NLP)  \n",
      "  - Strong experience with Python and deep learning frameworks (TensorFlow, PyTorch)  \n",
      "  - Experience in designing and implementing Reinforcement Learning (RL) algorithms  \n",
      "  - Excellent communication and collaboration skills  \n",
      "  - Understanding of machine learning principles and experimentation  \n",
      "- **Year of Experience Required:** 5 years  \n",
      "- **Location:** Not explicitly mentioned, but implies a comfortable indoor area  \n",
      "- **Salary Range:** Not specified\n"
     ]
    }
   ],
   "source": [
    "print(summary)"
   ]
  },
  {
   "cell_type": "code",
   "execution_count": 12,
   "metadata": {},
   "outputs": [],
   "source": [
    "### update the es object with the summary\n",
    "response = es_client.update(\n",
    "    index=ES_JOB_INDEX,\n",
    "    id=job[\"_id\"],\n",
    "    body={\n",
    "        \"doc\": {\n",
    "            \"ai_summary\": summary\n",
    "        }\n",
    "    }\n",
    ")"
   ]
  },
  {
   "cell_type": "code",
   "execution_count": null,
   "metadata": {},
   "outputs": [],
   "source": []
  },
  {
   "cell_type": "code",
   "execution_count": null,
   "metadata": {},
   "outputs": [],
   "source": []
  },
  {
   "cell_type": "code",
   "execution_count": null,
   "metadata": {},
   "outputs": [],
   "source": []
  }
 ],
 "metadata": {
  "kernelspec": {
   "display_name": "Python 3 (ipykernel)",
   "language": "python",
   "name": "python3"
  },
  "language_info": {
   "codemirror_mode": {
    "name": "ipython",
    "version": 3
   },
   "file_extension": ".py",
   "mimetype": "text/x-python",
   "name": "python",
   "nbconvert_exporter": "python",
   "pygments_lexer": "ipython3",
   "version": "3.12.7"
  }
 },
 "nbformat": 4,
 "nbformat_minor": 4
}
