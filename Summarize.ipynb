{
 "cells": [
  {
   "cell_type": "markdown",
   "id": "6116be17-730e-47fb-a2b4-465b4e8eaaa7",
   "metadata": {},
   "source": [
    "1. Connect to elastic search.\n",
    "2. Pull data one by one\n",
    "3. use openai to summarize\n",
    "4. post the summary into the summary key of each index"
   ]
  },
  {
   "cell_type": "code",
   "execution_count": 28,
   "id": "a8ff10ba-0587-4619-a2a0-b8be5674d015",
   "metadata": {},
   "outputs": [],
   "source": [
    "from elasticsearch import Elasticsearch\n",
    "import openai\n",
    "import os"
   ]
  },
  {
   "cell_type": "code",
   "execution_count": 29,
   "id": "f1c7e748-67c3-4406-8ed5-f5eb124a396f",
   "metadata": {},
   "outputs": [],
   "source": [
    "client = Elasticsearch(\n",
    "        ['https://localhost:9200'],\n",
    "        basic_auth=('elastic', 'elastic'),\n",
    "        verify_certs = False\n",
    "    )"
   ]
  },
  {
   "cell_type": "code",
   "execution_count": 30,
   "id": "9a0f556d-c91f-4f9d-bf7f-0b2210006c63",
   "metadata": {},
   "outputs": [
    {
     "name": "stderr",
     "output_type": "stream",
     "text": [
      "C:\\Users\\segor\\AppData\\Local\\Temp\\ipykernel_22796\\1995549113.py:1: DeprecationWarning: Received 'size' via a specific parameter in the presence of a 'body' parameter, which is deprecated and will be removed in a future version. Instead, use only 'body' or only specific parameters.\n",
      "  response = client.search(\n",
      "C:\\Users\\segor\\miniconda3\\envs\\brave\\Lib\\site-packages\\urllib3\\connectionpool.py:1099: InsecureRequestWarning: Unverified HTTPS request is being made to host 'localhost'. Adding certificate verification is strongly advised. See: https://urllib3.readthedocs.io/en/latest/advanced-usage.html#tls-warnings\n",
      "  warnings.warn(\n"
     ]
    }
   ],
   "source": [
    "response = client.search(\n",
    "        index=\"brave_project\",\n",
    "        body={\"query\": {\"match_all\": {}}},\n",
    "        size=1000,\n",
    "        scroll=\"2m\"  # Keep the scroll context valid for 2 minutes\n",
    "    )"
   ]
  },
  {
   "cell_type": "code",
   "execution_count": 31,
   "id": "9131af51-bbd7-4a08-a3b9-84b676c9328a",
   "metadata": {},
   "outputs": [],
   "source": [
    "documents = response['hits']['hits']\n",
    "# for doc in documents:\n",
    "#     print(f\"Document ID: {doc['_id']}\")\n",
    "#     print(f\"Document Content: {doc['_source']}\")\n",
    "#     print(\"---------------\")"
   ]
  },
  {
   "cell_type": "code",
   "execution_count": 32,
   "id": "e21aa6f5-3512-4cb6-b38d-10fb8b57163f",
   "metadata": {},
   "outputs": [],
   "source": [
    "OPENAI_API_KEY = # your api key"
   ]
  },
  {
   "cell_type": "code",
   "execution_count": 33,
   "id": "34089154-5566-4023-b62b-df904e7063d7",
   "metadata": {},
   "outputs": [],
   "source": [
    "import openai\n",
    "import os\n",
    "from openai import OpenAI\n",
    "openai_client = OpenAI(api_key=OPENAI_API_KEY)"
   ]
  },
  {
   "cell_type": "code",
   "execution_count": 78,
   "id": "130838a5-e6a6-4aae-9b98-d27fddc4e3fb",
   "metadata": {},
   "outputs": [
    {
     "name": "stdout",
     "output_type": "stream",
     "text": [
      "0 Toronto Business / Data Analyst\n",
      "1 Toronto Data Reporting Analyst (2214)\n",
      "2 Toronto Senior Campaign Data Analyst\n",
      "3 Toronto Senior Data Analyst\n",
      "4 Toronto BI/Data Analyst\n",
      "5 Toronto Lead Data Analyst\n",
      "6 Toronto DATA AND PROGRAM EVALUATION ANALYST\n",
      "7 Toronto Data Analyst, Fraud Threat Management\n",
      "8 Toronto Data Analytics Senior Analyst\n",
      "9 Toronto Investment Data Analyst\n",
      "10 Toronto Data Scientist (Global Data and Analytics)\n",
      "11 Toronto Lead Data Scientist, Next Best Action\n",
      "12 Toronto Catalyst Program 2025 - Data Scientist\n",
      "13 Toronto Lead Data Scientist\n",
      "14 Toronto Data Scientist I\n",
      "15 Toronto Senior Data Scientist\n",
      "16 Toronto Scientist - Data Intelligence (Remote)\n",
      "17 Toronto Full Stack Data Scientist - Assistant Vice President\n",
      "18 Toronto Data Scientist II\n",
      "19 Toronto Data Scientist, Decisions - Driver Segments\n",
      "20 Toronto Senior Product & Delivery manager\n",
      "21 Toronto Product Manager, Ad Platforms\n",
      "22 Toronto Senior Product Manager\n",
      "23 Toronto Investment Product Manager - Bilingual (English & Spanish Required)\n",
      "24 Toronto Lead Product Manager - Technical-1\n",
      "25 Toronto Senior Product Manager, Business Operating Services\n",
      "26 Toronto Senior Technical Product Manager\n",
      "27 Toronto Senior Product Manager, Tranxact , Global Transaction Banking - Toronto\n",
      "28 Toronto Manager, Product Management - Nexus Risk Data Products Team\n",
      "29 Toronto Decision Automation Product Manager\n",
      "30 Toronto Machine Learning Engineer (Remote)\n",
      "31 Toronto Machine Learning Engineer Lead\n",
      "32 Toronto Machine Learning Engineer\n",
      "33 Toronto Senior Machine Learning Engineer\n",
      "34 Toronto Machine Learning Engineer, Search\n",
      "35 Toronto Distinguished Machine Learning Engineer\n",
      "36 Toronto Machine Learning Engineer / Sr. Machine Learning Engineer\n",
      "37 Toronto Machine Learning Engineer, Payments & Risk\n",
      "38 Toronto Senior Research Engineer (Foundational Research, Machine Learning)\n",
      "39 Toronto AI Data Engineer\n",
      "40 Vancouver Business Systems Analyst (Data Management)\n",
      "41 Vancouver Data Analyst\n",
      "42 Vancouver Data Analyst - Remote\n",
      "43 Vancouver Lead Trade and Customs Data Analyst, Supply Chain, NA\n",
      "44 Vancouver Research Data Analyst- CIBMTR Data Manager\n",
      "45 Vancouver Data Analyst\n",
      "46 Vancouver Senior Data Analyst\n",
      "47 Vancouver Healthcare Data Analyst I, II, OR III DOE\n",
      "48 Vancouver Oregon Healthcare Data Analyst 1\n",
      "49 Vancouver Data Analyst - Fire Control Specialist\n",
      "50 Vancouver Expert Footwear Product Manager, Women's Lifestyle\n",
      "51 Vancouver Lead Product Manager\n",
      "52 Vancouver Technical Business Analyst/Product Manager\n",
      "53 Vancouver Product Manager\n",
      "54 Vancouver Director, Product Management\n",
      "55 Vancouver Senior Product Manager (Lending)\n",
      "56 Vancouver Product Line Manager II, Global Apparel Kids\n",
      "57 Vancouver Product Manager\n",
      "58 Vancouver Senior Engineering Product Manager IS - Admin Tech Philanthropy - *Remote*\n",
      "59 Vancouver Sr. Technical Product Manager\n",
      "60 Vancouver Digital Marketer\n",
      "61 Vancouver Maddox Industrial Transformer is hiring: Digital Marketer in Battle Ground\n",
      "62 Vancouver Freelance Digital Marketer\n",
      "63 Vancouver Senior Digital Marketing Manager, PPC & SEO\n",
      "64 Vancouver Digital Marketer\n",
      "65 Vancouver Digital Marketers\n",
      "66 Vancouver Digital Marketer - Contract to hire\n",
      "67 Vancouver Digital Marketer - AI Trainer\n",
      "68 Vancouver Digital Marketer (Amazon & Costco)\n",
      "69 Vancouver Remote Digital / Affiliate Marketer - Will Train\n"
     ]
    }
   ],
   "source": [
    "jobs = response['hits']['hits']\n",
    "\n",
    "for job in jobs:\n",
    "    job_desc = job['_source']['description']\n",
    "    \n",
    "    # Create a chat completion\n",
    "    chat_response = openai_client.chat.completions.create(\n",
    "        model=\"gpt-4o\",  # Specify the GPT-4 model\n",
    "        messages=[\n",
    "            {\n",
    "                \"role\": \"system\",\n",
    "                \"content\": \"You are an assistant that summarizes job descriptions into concise bullet points.\"\n",
    "            },\n",
    "            {\n",
    "                \"role\": \"user\",\n",
    "                \"content\": f\"Summarize the following job description:\\n\\n{job_desc}\"\n",
    "            }\n",
    "        ],\n",
    "        max_tokens=100  # Limit the response length\n",
    "    )\n",
    "    \n",
    "    # Extract the summary from the assistant's response\n",
    "    summary = chat_response.choices[0].message.content\n",
    "    # print(summary)\n",
    "    # break\n",
    "    client.update(\n",
    "            index=\"brave_project\",\n",
    "            id=job['_id'],\n",
    "            body={\"doc\": {\"summary\": summary}}\n",
    "        )\n",
    "    print(job['_id'],job[\"_source\"][\"location\"],job[\"_source\"][\"title\"])\n",
    "    \n",
    "\n"
   ]
  },
  {
   "cell_type": "code",
   "execution_count": 62,
   "id": "63bec074-52b4-400a-bec7-b8942b59eee4",
   "metadata": {},
   "outputs": [
    {
     "name": "stdout",
     "output_type": "stream",
     "text": [
      "<class 'str'>\n"
     ]
    }
   ],
   "source": [
    "print(type(chat_response.choices[0].message.content))"
   ]
  },
  {
   "cell_type": "code",
   "execution_count": 72,
   "id": "e6a03b81-d2fc-43aa-b1fb-39f768cb339c",
   "metadata": {},
   "outputs": [
    {
     "name": "stdout",
     "output_type": "stream",
     "text": [
      "<class 'str'>\n"
     ]
    }
   ],
   "source": [
    "print(type(job[\"_source\"][\"description\"]))"
   ]
  }
 ],
 "metadata": {
  "kernelspec": {
   "display_name": "Python 3 (ipykernel)",
   "language": "python",
   "name": "python3"
  },
  "language_info": {
   "codemirror_mode": {
    "name": "ipython",
    "version": 3
   },
   "file_extension": ".py",
   "mimetype": "text/x-python",
   "name": "python",
   "nbconvert_exporter": "python",
   "pygments_lexer": "ipython3",
   "version": "3.12.7"
  }
 },
 "nbformat": 4,
 "nbformat_minor": 5
}
