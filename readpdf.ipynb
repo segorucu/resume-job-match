{
 "cells": [
  {
   "cell_type": "code",
   "execution_count": 1,
   "id": "5cbc4709-080b-4723-ab81-584f1a7bd942",
   "metadata": {},
   "outputs": [],
   "source": [
    "file_path = (\n",
    "    \"Resume_11_2024.pdf\"\n",
    ")"
   ]
  },
  {
   "cell_type": "code",
   "execution_count": 2,
   "id": "b9a4344d-8810-4586-aa4f-84835597e1cf",
   "metadata": {},
   "outputs": [],
   "source": [
    "from PyPDF2 import PdfReader"
   ]
  },
  {
   "cell_type": "code",
   "execution_count": 33,
   "id": "13c06c42-3265-42a1-8bb7-afea464658e5",
   "metadata": {},
   "outputs": [
    {
     "name": "stdout",
     "output_type": "stream",
     "text": [
      "2\n"
     ]
    }
   ],
   "source": [
    "reader = PdfReader(file_path)\n",
    "print(len(reader.pages))\n",
    "text = \"\"\n",
    "for page in reader.pages:\n",
    "    text += page.extract_text()\n",
    "# page = reader.pages[0]\n",
    "# text = page.extract_text()\n"
   ]
  },
  {
   "cell_type": "code",
   "execution_count": 34,
   "id": "1cafdd24-5e9b-47a1-84a0-3dcd8292a7e7",
   "metadata": {},
   "outputs": [
    {
     "name": "stdout",
     "output_type": "stream",
     "text": [
      "Seyhan Emre Gorucu\n",
      "Calgary, AB, Canada\n",
      "(403) 827-4222 | segorucu@gmail.com ||| Canadian citizen & US Greencard holder\n",
      "WorkExperience\n",
      "ComputerModellingGroup Calgary,AB\n",
      "SCIENTIFIC SOFTWARE DEVELOPMENT ENGINEER / SENIOR SIMULATION SCIENTIST Aug2013-Present\n",
      "•Workedondevelopment,maintenanceandsupportofGEM(Fortranbasedequation-of-statecompositionalsimulatorusedforthesimulation\n",
      "ofoil-gas-waterflow).\n",
      "•Developedand/orimprovedfeaturesforsimulationofaqueousreactions,mineralreactions,surfacecomplexation,pitzeractivitymodel,phase\n",
      "behavior,finesandproppants,single-componentisenthalpicflashcalculations.\n",
      "•Thesefeaturesareusedbyhundredsofenergycompaniesinordertoimprovedecisionmakingforreservoirmanagement.\n",
      "•ConsultingandSupport.\n",
      "ThePennsylvaniaStateUniversity StateCollege,PA\n",
      "RESEARCH ASSISTANT Aug. 2010-Apr. 2013\n",
      "•Introduced new algorithms that compute the number of physical phases and chemical compositions in an oil and gas reservoir. As these\n",
      "calculationsarerepeatedbillionsoftimesduringanumericalreservoirsimulation,stabilityandspeedofthesecalculationsareveryimportant.\n",
      "Thealgorithms,whichwerewritteninFortrancode,wereshowntobefasterandmorerobustthantheconventionalmethods.\n",
      "QuantumReservoirImpact Houston,TX\n",
      "SUMMER INTERN May. 2012-Aug. 2012\n",
      "•Developed an Enhanced Oil Recovery (EOR) Screening and Forecasting Toolbox built on completely programmatic Matlab GUI. The toolbox\n",
      "takesinseveralreservoir-specificinputsfromtheuserandcarriesoutvariousphysicalandcorrelationalcalculations. Oneofthefeaturesofthe\n",
      "toolistodecidewhichEORtechniqueismostsuitableforaparticularreservoir.\n",
      "ThePennsylvaniaStateUniversity StateCollege,PA\n",
      "TEACHING ASSISTANT Jan. 2009-Dec. 2011\n",
      "SelectedProjects\n",
      "ReinforcementLearning\n",
      "•Implemented PPO, Ape-X, A3C and DQN Deep Reinforcement Learning algorithms by using Rllib, and trained them in a multiagent Football\n",
      "environmentdevelopedbyGoogleResearch. CreatedaDockerimageataGoogleCloudVMfordevelopment. UsedTensorboardtovisualize\n",
      "trainingparameters.\n",
      "•Implemented Deep Q-Networks from scratch by using Pytorch. Trained the algorithm with continuous space discrete action Lunar Lander\n",
      "environmentbyOpenAIGym. TherocketsuccessfullylearnedtolandontheMoon.\n",
      "•DuplicatedTemporalDifferenceLearningbySutton(1988). SEETHEPROJECT\n",
      "MachineLearning\n",
      "•Developed3differentKerasbasedDLtoolsusingLSTMand/ordenselayerstoestimatemonthlyelectricityconsumptionforthenextyearasa\n",
      "functionofseveralfactorssuchasweather/homespecifications. UsedAWSLambdaandPostgrestocreatealinkthatwaseventuallyusedata\n",
      "website.\n",
      "•SupervisedLearningwithSklearn: Applied,comparedandcontrasteddecisiontree,neuralnetwork,AdaBoost,SVC,KNNontwodatasets.\n",
      "•RandomizedOptimizationwithMlrose: Usedrandomizedhillclimbing,simulatedannealing,genericalgorithmsandMIMICtosolven-queens,\n",
      "4-peaksandknapsackproblems.\n",
      "•UnsupervisedLearningandDimensionalityReductionwithSklearn: Combinedclusteringanddimensionalityreductiontechniquestoanalyze\n",
      "twodatasets.\n",
      "•Reinforcement Learning with OpenAI Gym and MDPToolbox: Applied, compared and contrasted three reinforcement learning algorithms on\n",
      "twoproblems. SEETHEPROJECT\n",
      "•Estimatedwhetherapersonearnsmorethan50kbasedonindividualdatausingsupervisedlearningmodelssuchassupportvectormachine,\n",
      "randomforestclassifier,logisticregression. SEETHEPROJECT\n",
      "MachineLearningForTrading\n",
      "•ImplementedLinearRegression,DecisionTree,BagLearning,Q-LearnerAlgorithmsfromscratch.\n",
      "•DevelopedaTradingStrategyToolbyfeedingTechnicalIndicatorsintoaDecision-TreebasedBagLearner. SEETHEPROJECT\n",
      "ArtificialIntelligence\n",
      "•Implemented Priority Queue, BreadthFirstSearch, UniformCost Search, A*, Bi-directionalSearch, Tri-directional Search, Adversarial Search,\n",
      "BayesianNetworks,DecisionTreesandForests,K-Means,GaussianMixturealgorithms.\n",
      "•ImplementedKalmanFilter,SimultaneousLocalizationandMapping(SLAM),ParticleFilter,ProportionalIntegrativeDerivative(PID)algorithms.DeepLearning\n",
      "•Used Facebook’s mmf api to implement multimodal Visual Bert and other visual-nlp architectures to identify hateful memes. The dataset\n",
      "containsimageswithtext. SEETHEPROJECT\n",
      "•CodedRNN,LSTM,Seq2SeqandTransformerswithPyTorch.\n",
      "•Implementedseveralvisualizationtechniquessuchassaliencymaps,guidedbackprop,gradcam. ImplementedStyletransfer.\n",
      "•WroteaCNNfromscratchwithPython.\n",
      "•UsedPytorchtodevelopadeeplearningmodelforadatasetthatcontainsimagesof10classes.\n",
      "•Createdalargerdeeplearningmodelfromasmallerpretrainedmodel. SEETHEPROJECT\n",
      "Education\n",
      "TheGeorgiaInstituteofTechnology Online\n",
      "M.SC. COMPUTER SCIENCE, GPA: 3.9/4.0 Apr2021-July2024\n",
      "•DeepLearning CNN,VisualizationofLayers,StyleTransfer,Embeddings,RNN,LSTM,Transformers,BERT\n",
      "•ReinforcementLearning Model-basedLearning,Model-freeLearning,TemporalDistance,FunctionApproximation,DeepQ-Network,POMDP,Semi-MDP,Game\n",
      "Theory\n",
      "•MachineLearning Supervised,UnsupervisedandReinforcementLearning\n",
      "•ArtificialIntelligenceforRobotics KalmanFilters,PID,SLAM,DynamicSearch,A*\n",
      "•Artificial Intelligence Tridirectional Search, Adversarial Search, Bayes Nets, Decision Trees and Forests, Constraint Satisfaction, Pattern Recognition Through\n",
      "Time,LogicandPlanning\n",
      "•MachineLearningforTrading Python,Numpy,Pandas,MatPlotLib,TechnicalAnalysisforFinance,DecisionTrees,Bagging,Q-Learning,Decision-Tree-Based\n",
      "OptionsTrading\n",
      "•DataandVisualAnalytics SQLite,Tableau,D3.js,Javascript,HTML,GCP,AWS,PySpark,Databricks,MicrosoftMachineLearningStudio,Scikit-Learn\n",
      "•GraduateAlgorithms DynamicProgramming,LinearProgramming,NP-Completeness,Graphs,DivideandConquer\n",
      "•NaturalLanguageProcessing RNN,LSTM,BERT,Self-Attention,Transformers\n",
      "•ComputerNetworks\n",
      "ThePennsylvaniaStateUniversity StateCollege,PA\n",
      "PHD. ENERGY AND MINERAL ENGINEERING, MINOR IN COMPUTATIONAL SCIENCE, GPA: 3.83/4.0 Aug2010-Dec2013\n",
      "•AreaofSpecialization Simulation,FluidBehavior\n",
      "•DissertationTitle ReducedPhaseBehaviorCalculationsforCompositionalSimulation\n",
      "ThePennsylvaniaStateUniversity StateCollege,PA\n",
      "M.SC. ENERGY AND MINERAL ENGINEERING, GPA: 3.88/4.0 Aug2008-Aug2010\n",
      "•AreaofSpecialization Simulation,MachineLearning\n",
      "•ThesisTopic ”OptimizationoftheDesignofTransverseFracturesinHorizontalWellsPlacedinDualPorosityTightGasReservoir”-MatlabisusedtocreateanANN\n",
      "toolthatpredictsgasproduction. Gasproductionwasoriginallygeneratedbyanumericalsimulator(IMEX).Further,areverseANNtooliscreatedtoestimatethe\n",
      "requiredwelldesignparametersgiventhereservoirpropertiesandthedesiredgasproduction.\n",
      "MiddleEastTechnicalUniversity Ankara,Turkey\n",
      "B.SC. ENGINEERING Sep2002-Jan2008\n",
      "Skills\n",
      "Languages Fortran,Python,Matlab,C++\n",
      "Libraries Tensorflow,PyTorch,Scikit-Learn,Numpy,Pandas,Matplotlib,Keras,OpenAIGym,HuggingFace\n",
      "DevelopmentTools VisualStudio,PyCharm,JupyterNotebook,Clearcase,Vim,Git,GoogleColab\n",
      "SelectedPublications(3of20)\n",
      "•Danget. al. (2020):”AIbasedmechanisticmodelingandprobabilisticforecastingofhybridlowsalinitychemicalflooding”,Fuel261,116445.\n",
      "•Danget. al.:”ApplicationofArtificialIntelligenceforMechanisticModelingandProbabilisticForecastingofHybridLowSalinityChemical\n",
      "Flooding”,presentedattheSPEAnnualTechnicalConferenceandExhibition,2018,Dallas,Texas.\n",
      "•GorucuS.E.,ErtekinT.:“OptimizationoftheDesignofTransverseHydraulicFracturesinHorizontalWellsPlacedinDualPorosityTightGas\n",
      "Reservoirs”,SPE142040,presentedatSPEMiddleEastUnconventionalGasConferenceandExhibition,2011,Muscat,Oman.\n"
     ]
    }
   ],
   "source": [
    "print(text)"
   ]
  },
  {
   "cell_type": "code",
   "execution_count": 3,
   "id": "fc011c8c-2719-4e33-8f74-bbfd43084191",
   "metadata": {},
   "outputs": [],
   "source": [
    "OPENAI_API_KEY = # your api key"
   ]
  },
  {
   "cell_type": "code",
   "execution_count": 4,
   "id": "2afc3ca4-d25e-4f0c-bffe-e47524b257c6",
   "metadata": {},
   "outputs": [],
   "source": [
    "import openai\n",
    "import os\n",
    "from openai import OpenAI\n",
    "openai_client = OpenAI(api_key=OPENAI_API_KEY)"
   ]
  },
  {
   "cell_type": "code",
   "execution_count": 5,
   "id": "151767da-71cf-43ff-9fee-19feb425c340",
   "metadata": {},
   "outputs": [
    {
     "ename": "NameError",
     "evalue": "name 'text' is not defined",
     "output_type": "error",
     "traceback": [
      "\u001b[1;31m---------------------------------------------------------------------------\u001b[0m",
      "\u001b[1;31mNameError\u001b[0m                                 Traceback (most recent call last)",
      "Cell \u001b[1;32mIn[5], line 3\u001b[0m\n\u001b[0;32m      1\u001b[0m prompt \u001b[38;5;241m=\u001b[39m \u001b[38;5;124mf\u001b[39m\u001b[38;5;124m\"\"\"\u001b[39m\u001b[38;5;124mGiven the following ocr result from a resume, put it in a readable format.\u001b[39m\n\u001b[0;32m      2\u001b[0m \u001b[38;5;124m    OCR result\u001b[39m\n\u001b[1;32m----> 3\u001b[0m \u001b[38;5;124m    \u001b[39m\u001b[38;5;132;01m{\u001b[39;00mtext\u001b[38;5;132;01m}\u001b[39;00m\n\u001b[0;32m      4\u001b[0m \u001b[38;5;124m\"\"\"\u001b[39m\n",
      "\u001b[1;31mNameError\u001b[0m: name 'text' is not defined"
     ]
    }
   ],
   "source": [
    "prompt = f\"\"\"Given the following ocr result from a resume, put it in a readable format.\n",
    "    OCR result\n",
    "    {text}\n",
    "\"\"\""
   ]
  },
  {
   "cell_type": "code",
   "execution_count": 38,
   "id": "b43f9b7c-aefc-4599-a97c-3940faec3999",
   "metadata": {},
   "outputs": [],
   "source": [
    "chat_response = openai_client.chat.completions.create(\n",
    "        model=\"gpt-4o\",  # Specify the GPT-4 model\n",
    "        messages=[\n",
    "            {\n",
    "                \"role\": \"user\",\n",
    "                \"content\": prompt\n",
    "            }\n",
    "        ],\n",
    "    )"
   ]
  },
  {
   "cell_type": "code",
   "execution_count": 39,
   "id": "d5e7e8da-032e-41d5-b334-89ded2a48833",
   "metadata": {},
   "outputs": [],
   "source": [
    "resume_clean = chat_response.choices[0].message.content"
   ]
  },
  {
   "cell_type": "code",
   "execution_count": 40,
   "id": "2c3811fc-8db9-4700-8db7-f690ebc32110",
   "metadata": {},
   "outputs": [
    {
     "name": "stdout",
     "output_type": "stream",
     "text": [
      "Here is a formatted and readable version of the provided OCR resume data:\n",
      "\n",
      "---\n",
      "\n",
      "### Seyhan Emre Gorucu  \n",
      "Calgary, AB, Canada  \n",
      "Phone: (403) 827-4222 | Email: segorucu@gmail.com  \n",
      "LinkedIn: [Profile URL] | GitHub: [Profile URL]  \n",
      "**Canadian citizen & US Greencard holder**\n",
      "\n",
      "---\n",
      "\n",
      "### Work Experience\n",
      "\n",
      "#### Computer Modelling Group, Calgary, AB  \n",
      "**Scientific Software Development Engineer / Senior Simulation Scientist**  \n",
      "_August 2013 - Present_  \n",
      "- Worked on the development, maintenance, and support of GEM (Fortran-based equation-of-state compositional simulator for oil-gas-water flow simulation).\n",
      "- Developed and improved features for the simulation of aqueous reactions, mineral reactions, surface complexation, Pitzer activity model, phase behavior, fines and proppants, single-component isenthalpic flash calculations.\n",
      "- These features are used by hundreds of energy companies to improve decision-making for reservoir management.\n",
      "- Provided consulting and support.\n",
      "\n",
      "#### The Pennsylvania State University, State College, PA  \n",
      "**Research Assistant**  \n",
      "_August 2010 - April 2013_  \n",
      "- Introduced new algorithms to compute the number of physical phases and chemical compositions in an oil and gas reservoir. Given the repetition of these calculations billions of times during a numerical reservoir simulation, stability and speed are crucial. The algorithms, written in Fortran, proved faster and more robust compared to conventional methods.\n",
      "\n",
      "#### Quantum Reservoir Impact, Houston, TX  \n",
      "**Summer Intern**  \n",
      "_May 2012 - August 2012_  \n",
      "- Developed an Enhanced Oil Recovery (EOR) Screening and Forecasting Toolbox with a programmatic Matlab GUI. It accepts reservoir-specific inputs and performs various physical and correlational calculations, helping decide the most suitable EOR technique for a particular reservoir.\n",
      "\n",
      "#### The Pennsylvania State University, State College, PA  \n",
      "**Teaching Assistant**  \n",
      "_January 2009 - December 2011_\n",
      "\n",
      "---\n",
      "\n",
      "### Selected Projects\n",
      "\n",
      "#### Reinforcement Learning\n",
      "- Implemented PPO, Ape-X, A3C, and DQN Deep Reinforcement Learning algorithms using Rllib; trained in a multi-agent Football environment by Google Research. Developed a Docker image on Google Cloud VM for development and used Tensorboard for visualizing training parameters.\n",
      "- Developed Deep Q-Networks from scratch using PyTorch and trained on the continuous space discrete action Lunar Lander environment by OpenAI Gym.\n",
      "\n",
      "#### Machine Learning\n",
      "- Developed Keras-based DL tools using LSTM and dense layers to estimate monthly electricity consumption as a function of several factors. Integrated AWS Lambda and PostgreSQL for web deployment.\n",
      "- Applied supervised learning with Sklearn on datasets and performed randomized optimization with Mlrose.\n",
      "- Developed a model to estimate income brackets using supervised learning models.\n",
      " \n",
      "#### Machine Learning for Trading\n",
      "- Implemented Linear Regression, Decision Tree, Bag Learning, Q-Learner Algorithms from scratch; developed a Trading Strategy Tool.\n",
      "\n",
      "#### Artificial Intelligence\n",
      "- Implemented algorithms like Priority Queue, Breadth-First Search, A*, Kalman Filters, Particle Filter, and others.\n",
      "\n",
      "#### Deep Learning\n",
      "- Used Facebook’s MMF API to implement multimodal Visual Bert and other visual-nlp architectures to identify hateful memes.\n",
      "\n",
      "---\n",
      "\n",
      "### Education\n",
      "\n",
      "#### The Georgia Institute of Technology, Online  \n",
      "**M.Sc. Computer Science**  \n",
      "_GPA: 3.9/4.0_  \n",
      "_April 2021 - July 2024_  \n",
      "- Courses: Deep Learning, Reinforcement Learning, Machine Learning, Artificial Intelligence for Robotics, Data and Visual Analytics, etc.\n",
      "\n",
      "#### The Pennsylvania State University, State College, PA  \n",
      "**Ph.D. Energy and Mineral Engineering**  \n",
      "_GPA: 3.83/4.0_  \n",
      "_August 2010 - December 2013_  \n",
      "- Specialization in Simulation and Fluid Behavior.\n",
      "\n",
      "#### The Pennsylvania State University, State College, PA  \n",
      "**M.Sc. Energy and Mineral Engineering**  \n",
      "_GPA: 3.88/4.0_  \n",
      "_August 2008 - August 2010_  \n",
      "- Focused on Simulation and Machine Learning.\n",
      "\n",
      "#### Middle East Technical University, Ankara, Turkey  \n",
      "**B.Sc. Engineering**  \n",
      "_September 2002 - January 2008_\n",
      "\n",
      "---\n",
      "\n",
      "### Skills\n",
      "\n",
      "- **Languages**: Fortran, Python, Matlab, C++\n",
      "- **Libraries**: TensorFlow, PyTorch, Scikit-Learn, Numpy, Pandas, Matplotlib, Keras, OpenAI Gym, Hugging Face\n",
      "- **Development Tools**: Visual Studio, PyCharm, Jupyter Notebook, Clearcase, Vim, Git, Google Colab\n",
      "\n",
      "---\n",
      "\n",
      "### Selected Publications\n",
      "\n",
      "1. Dang et al. (2020): \"AI-based mechanistic modeling and probabilistic forecasting of hybrid low salinity chemical flooding\", Fuel 261, 116445.\n",
      "2. Dang et al.: \"Application of Artificial Intelligence for Mechanistic Modeling and Probabilistic Forecasting of Hybrid Low Salinity Chemical Flooding\", presented at SPE Annual Technical Conference and Exhibition, 2018, Dallas, Texas.\n",
      "3. Gorucu S.E., Ertekin T.: \"Optimization of the Design of Transverse Hydraulic Fractures in Horizontal Wells Placed in Dual Porosity Tight Gas Reservoirs\", SPE 142040, presented at SPE Middle East Unconventional Gas Conference and Exhibition, 2011, Muscat, Oman.\n",
      "\n",
      "---\n"
     ]
    }
   ],
   "source": [
    "print(resume_clean)"
   ]
  },
  {
   "cell_type": "code",
   "execution_count": 6,
   "id": "85757e75-9e92-421d-9c04-026c07725c80",
   "metadata": {},
   "outputs": [],
   "source": [
    "from elasticsearch import Elasticsearch"
   ]
  },
  {
   "cell_type": "code",
   "execution_count": 7,
   "id": "b3b0a631-f898-4324-ae06-464ac1aa1abf",
   "metadata": {},
   "outputs": [
    {
     "name": "stderr",
     "output_type": "stream",
     "text": [
      "C:\\Users\\segor\\miniconda3\\envs\\brave\\Lib\\site-packages\\elasticsearch\\_sync\\client\\__init__.py:402: SecurityWarning: Connecting to 'https://localhost:9200' using TLS with verify_certs=False is insecure\n",
      "  _transport = transport_class(\n"
     ]
    }
   ],
   "source": [
    "es_client = Elasticsearch(\n",
    "        ['https://localhost:9200'],\n",
    "        basic_auth=('elastic', 'elastic'),\n",
    "        verify_certs = False\n",
    "    )"
   ]
  },
  {
   "cell_type": "code",
   "execution_count": 43,
   "id": "ccc8d6ab-d51b-4ccb-99bf-5d999a28c587",
   "metadata": {},
   "outputs": [],
   "source": [
    "def get_matching_jobs(index_name, location, position):\n",
    "    query = {\n",
    "        \"query\": {\n",
    "            \"bool\": {\n",
    "                \"must\": [\n",
    "                    {\"match\": {\"location\": location}},\n",
    "                    {\"match\": {\"query\": position}}\n",
    "                ]\n",
    "            }\n",
    "        }\n",
    "    }\n",
    "    results = es_client.search(index=index_name, body=query, size=1000)\n",
    "    return results['hits']['hits']\n"
   ]
  },
  {
   "cell_type": "code",
   "execution_count": 55,
   "id": "8aaaa10d-1059-48b1-9cab-b8b3c4062c4e",
   "metadata": {},
   "outputs": [
    {
     "name": "stderr",
     "output_type": "stream",
     "text": [
      "C:\\Users\\segor\\AppData\\Local\\Temp\\ipykernel_9200\\1041610920.py:12: DeprecationWarning: Received 'size' via a specific parameter in the presence of a 'body' parameter, which is deprecated and will be removed in a future version. Instead, use only 'body' or only specific parameters.\n",
      "  results = es_client.search(index=index_name, body=query, size=1000)\n",
      "C:\\Users\\segor\\miniconda3\\envs\\brave\\Lib\\site-packages\\urllib3\\connectionpool.py:1099: InsecureRequestWarning: Unverified HTTPS request is being made to host 'localhost'. Adding certificate verification is strongly advised. See: https://urllib3.readthedocs.io/en/latest/advanced-usage.html#tls-warnings\n",
      "  warnings.warn(\n"
     ]
    }
   ],
   "source": [
    "jobs = get_matching_jobs(\"brave_project\",\"Toronto\", \"Product Manager\")"
   ]
  },
  {
   "cell_type": "code",
   "execution_count": 56,
   "id": "2424b008-945b-45a8-aebb-54cc960da503",
   "metadata": {},
   "outputs": [
    {
     "name": "stdout",
     "output_type": "stream",
     "text": [
      "10\n"
     ]
    }
   ],
   "source": [
    "print(len(jobs))"
   ]
  },
  {
   "cell_type": "code",
   "execution_count": 11,
   "id": "a04c64d4-bbff-44bc-bdea-398764fb0e39",
   "metadata": {},
   "outputs": [],
   "source": [
    "from langchain_community.document_loaders import PyPDFLoader\n",
    "from langchain_text_splitters import RecursiveCharacterTextSplitter"
   ]
  },
  {
   "cell_type": "code",
   "execution_count": 12,
   "id": "6d7ac261-02fc-4360-896b-66a5d400838e",
   "metadata": {},
   "outputs": [],
   "source": [
    "def load_split_pdf(file_path):\n",
    "    # Load the PDF document and split it into chunks\n",
    "    loader = PyPDFLoader(file_path)  # Initialize the PDF loader with the file path\n",
    "    documents = loader.load()  # Load the PDF document \n",
    "\n",
    "    # Initialize the recursive character text splitter\n",
    "    text_splitter = RecursiveCharacterTextSplitter(\n",
    "        chunk_size=100,  # Set the maximum chunk size\n",
    "        chunk_overlap=20,  # Set the number of overlapping characters between chunks\n",
    "        separators=[\"\\n\\n\", \"\\n\", \" \", \"\"],  # Define resume-specific separators for splitting\n",
    "    )   \n",
    "\n",
    "    # Split the loaded documents into chunks\n",
    "    chunks = text_splitter.split_documents(documents)\n",
    "    return documents, chunks"
   ]
  },
  {
   "cell_type": "code",
   "execution_count": 13,
   "id": "1cf76249-24be-4bbb-8c45-e9c435972159",
   "metadata": {},
   "outputs": [],
   "source": [
    "resume_docs, resume_chunks = load_split_pdf(file_path)"
   ]
  },
  {
   "cell_type": "code",
   "execution_count": 16,
   "id": "8bdc9128-b175-4a5f-a6b7-20bf8a4ce770",
   "metadata": {},
   "outputs": [],
   "source": [
    "full_resume = \" \".join([doc.page_content for doc in resume_docs])"
   ]
  },
  {
   "cell_type": "code",
   "execution_count": 18,
   "id": "f61fc052-6ca6-4192-b82d-9d76a3578d8c",
   "metadata": {},
   "outputs": [],
   "source": [
    "prompt = f\"\"\"Summarize the following resume.\n",
    "    {full_resume}\n",
    "\"\"\"\n",
    "chat_response = openai_client.chat.completions.create(\n",
    "        model=\"gpt-4o\",  # Specify the GPT-4 model\n",
    "        messages=[\n",
    "            {\n",
    "                \"role\": \"user\",\n",
    "                \"content\": prompt\n",
    "            }\n",
    "        ],\n",
    "    )"
   ]
  },
  {
   "cell_type": "code",
   "execution_count": 19,
   "id": "da64f28a-0f0b-4222-8ddc-40302abfabb5",
   "metadata": {},
   "outputs": [],
   "source": [
    "resume_summary = chat_response.choices[0].message.content"
   ]
  },
  {
   "cell_type": "code",
   "execution_count": 20,
   "id": "3cfcf43b-d51a-4fa9-b25b-8a90c158d2b9",
   "metadata": {},
   "outputs": [
    {
     "name": "stdout",
     "output_type": "stream",
     "text": [
      "**Resume Summary: Seyhan Emre Gorucu**\n",
      "\n",
      "- **Location & Contact**: Based in Calgary, AB, Canada. Canadian citizen and US Greencard holder. Contact via segorucu@gmail.com or phone: (403) 827-4222.\n",
      "\n",
      "- **Current Position**: Scientific Software Development Engineer / Senior Simulation Scientist at Computer Modelling Group in Calgary, AB since August 2013. Responsible for the development and maintenance of the GEM simulator for oil-gas-water flow, improving simulation features for various chemical reactions and phase behavior, used by energy companies for reservoir management.\n",
      "\n",
      "- **Research Experience**: Previously worked as a Research Assistant at The Pennsylvania State University, introducing faster and more robust algorithms for oil and gas reservoir simulations. Internship experience at Quantum Reservoir Impact developing an EOR Screening and Forecasting Toolbox.\n",
      "\n",
      "- **Teaching**: Served as a Teaching Assistant at The Pennsylvania State University from January 2009 to December 2011.\n",
      "\n",
      "- **Projects and Skills**: Proficient in deep reinforcement learning, machine learning, artificial intelligence, and deep learning. Developed algorithms and models using Python, MATLAB, Fortran, and C++. Experienced with libraries like TensorFlow, PyTorch, Scikit-Learn, and Keras. Skilled in visualization and data analytics tools.\n",
      "\n",
      "- **Education**: \n",
      "  - Pursuing an M.Sc. in Computer Science with a GPA of 3.9 from The Georgia Institute of Technology (Apr 2021 - July 2024).\n",
      "  - Completed a Ph.D. in Energy and Mineral Engineering with a minor in Computational Science and an M.Sc. in the same field at The Pennsylvania State University.\n",
      "  - Holds a B.Sc. in Engineering from Middle East Technical University, Ankara, Turkey.\n",
      "\n",
      "- **Selected Publications**: Authored multiple publications related to AI-based modeling and optimization in oil and gas reservoirs.\n",
      "\n",
      "- **Technical Proficiencies**: Strong background in languages like Fortran, Python, MATLAB, and C++ and development tools such as Visual Studio, PyCharm, and Git.\n",
      "\n",
      "Seyhan Emre Gorucu has a strong background in scientific software development, simulation science, and advanced AI and ML techniques, with a proven track record of academic and industry experience in energy and mineral engineering.\n"
     ]
    }
   ],
   "source": [
    "print(resume_summary)"
   ]
  },
  {
   "cell_type": "code",
   "execution_count": 21,
   "id": "853b51be-4222-4425-a03f-0ad96d82aad5",
   "metadata": {},
   "outputs": [],
   "source": [
    "from langchain_huggingface import HuggingFaceEmbeddings\n",
    "from langchain_community.vectorstores import FAISS\n",
    "\n",
    "# Initialize the Hugging Face embedding model\n",
    "\n",
    "\n",
    "def create_vector_store(chunks):\n",
    "    # Store embeddings into the vector store\n",
    "    embeddings = HuggingFaceEmbeddings(model_name=\"sentence-transformers/all-mpnet-base-v2\")\n",
    "    vector_store = FAISS.from_documents(\n",
    "        documents=chunks,  # Input chunks to the vector store\n",
    "        embedding=embeddings  # Use the initialized embeddings model\n",
    "    )\n",
    "    return vector_store"
   ]
  },
  {
   "cell_type": "code",
   "execution_count": 22,
   "id": "93125df4-a714-44f3-9d10-10cb6d5998e2",
   "metadata": {},
   "outputs": [],
   "source": [
    "vector_store = create_vector_store(resume_chunks)"
   ]
  },
  {
   "cell_type": "code",
   "execution_count": 52,
   "id": "8798fb18-1139-4b73-881e-966fcc039893",
   "metadata": {},
   "outputs": [
    {
     "name": "stdout",
     "output_type": "stream",
     "text": [
      "<langchain_community.vectorstores.faiss.FAISS object at 0x0000025A012A6A80>\n"
     ]
    }
   ],
   "source": [
    "print(vector_store)"
   ]
  },
  {
   "cell_type": "code",
   "execution_count": 23,
   "id": "89181c7b-959a-4c1b-92bc-7f0893ec6121",
   "metadata": {},
   "outputs": [],
   "source": [
    "import os\n",
    "from dotenv import load_dotenv\n",
    "from langchain_groq import ChatGroq\n",
    "from langchain_core.prompts import PromptTemplate"
   ]
  },
  {
   "cell_type": "code",
   "execution_count": 50,
   "id": "9778e0ae-9aa2-4c2b-a5cd-7e9f7c9b5e6c",
   "metadata": {},
   "outputs": [],
   "source": [
    "load_dotenv()  # Load environment variables from .env file\n",
    "os.environ[\"GROQ_API_KEY\"] = os.getenv(\"GROQ_API_KEY\")\n",
    "llm = ChatGroq(model_name=\"mixtral-8x7b-32768\")"
   ]
  },
  {
   "cell_type": "code",
   "execution_count": 51,
   "id": "f76d1868-e280-4cf1-b373-b832b1d85392",
   "metadata": {},
   "outputs": [],
   "source": [
    "def analyze_resume(full_resume, job_description):\n",
    "    \n",
    "    # Template for analyzing the resume against the job description\n",
    "    template = \"\"\"\n",
    "    You are an AI assistant specialized in resume analysis and recruitment. Analyze the given resume and compare it with the job description. \n",
    "    Provide only an integer representing the match percentage between 0 and 100. Do not include any additional text or explanations.\n",
    "\n",
    "    Resume: {resume}\n",
    "    Job Description: {job_description}\n",
    "    \"\"\"\n",
    "    \n",
    "    prompt = PromptTemplate(  # Create a prompt template with input variables\n",
    "        input_variables=[\"resume\", \"job_description\"],\n",
    "        template=template\n",
    "    )\n",
    "\n",
    "    # Create a chain combining the prompt and the language model\n",
    "    chain = prompt | llm\n",
    "\n",
    "    # Invoke the chain with input data\n",
    "    response = chain.invoke({\"resume\": full_resume, \"job_description\": job_description})\n",
    "\n",
    "    # Return the content of the response\n",
    "    return response.content\n"
   ]
  },
  {
   "cell_type": "code",
   "execution_count": 70,
   "id": "9162b285-d726-4eb0-8639-0abf6a030d8a",
   "metadata": {},
   "outputs": [
    {
     "name": "stdout",
     "output_type": "stream",
     "text": [
      "30 30 \n",
      "15 15 \n",
      "10 10\n",
      "\n",
      "10 10\n",
      "\n",
      "10 10\n",
      "\n",
      "10 10\n",
      "\n",
      "20 20\n",
      "\n",
      "10 10\n",
      "\n",
      "10 10\n",
      "\n",
      "60 60\n",
      "\n"
     ]
    }
   ],
   "source": [
    "ranking = []\n",
    "for i,job in enumerate(jobs):\n",
    "    content = analyze_resume(resume_summary, job[\"_source\"][\"summary\"])\n",
    "    for j in range(min(3,len(content))):\n",
    "        if not content[j].isdigit():\n",
    "            break\n",
    "    else:\n",
    "        j = 3\n",
    "    if j == 0:\n",
    "        continue\n",
    "    rate = int(content[0:j])\n",
    "    ranking.append((rate,i))\n",
    "    print(rate,content[0:3])"
   ]
  },
  {
   "cell_type": "code",
   "execution_count": 73,
   "id": "7bc7f3ac-672f-40ca-a10d-a7f03b9ff812",
   "metadata": {},
   "outputs": [
    {
     "data": {
      "text/plain": [
       "[(60, 9),\n",
       " (30, 0),\n",
       " (20, 6),\n",
       " (15, 1),\n",
       " (10, 8),\n",
       " (10, 7),\n",
       " (10, 5),\n",
       " (10, 4),\n",
       " (10, 3),\n",
       " (10, 2)]"
      ]
     },
     "execution_count": 73,
     "metadata": {},
     "output_type": "execute_result"
    }
   ],
   "source": [
    "ranking.sort(reverse=True)\n",
    "ranking"
   ]
  }
 ],
 "metadata": {
  "kernelspec": {
   "display_name": "Python 3 (ipykernel)",
   "language": "python",
   "name": "python3"
  },
  "language_info": {
   "codemirror_mode": {
    "name": "ipython",
    "version": 3
   },
   "file_extension": ".py",
   "mimetype": "text/x-python",
   "name": "python",
   "nbconvert_exporter": "python",
   "pygments_lexer": "ipython3",
   "version": "3.12.7"
  }
 },
 "nbformat": 4,
 "nbformat_minor": 5
}
