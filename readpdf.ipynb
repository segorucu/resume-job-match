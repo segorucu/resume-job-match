{
 "cells": [
  {
   "cell_type": "code",
   "execution_count": 1,
   "id": "5cbc4709-080b-4723-ab81-584f1a7bd942",
   "metadata": {},
   "outputs": [],
   "source": [
    "file_path = (\n",
    "    \"Resume_11_2024.pdf\"\n",
    ")"
   ]
  },
  {
   "cell_type": "code",
   "execution_count": 2,
   "id": "b9a4344d-8810-4586-aa4f-84835597e1cf",
   "metadata": {},
   "outputs": [],
   "source": [
    "from PyPDF2 import PdfReader"
   ]
  },
  {
   "cell_type": "code",
   "execution_count": 3,
   "id": "13c06c42-3265-42a1-8bb7-afea464658e5",
   "metadata": {},
   "outputs": [
    {
     "name": "stdout",
     "output_type": "stream",
     "text": [
      "2\n"
     ]
    }
   ],
   "source": [
    "reader = PdfReader(file_path)\n",
    "print(len(reader.pages))\n",
    "text = \"\"\n",
    "for page in reader.pages:\n",
    "    text += page.extract_text()\n",
    "# page = reader.pages[0]\n",
    "# text = page.extract_text()\n"
   ]
  },
  {
   "cell_type": "code",
   "execution_count": 4,
   "id": "1cafdd24-5e9b-47a1-84a0-3dcd8292a7e7",
   "metadata": {},
   "outputs": [
    {
     "name": "stdout",
     "output_type": "stream",
     "text": [
      "Seyhan Emre Gorucu\n",
      "Calgary, AB, Canada\n",
      "(403) 827-4222 | segorucu@gmail.com ||| Canadian citizen & US Greencard holder\n",
      "WorkExperience\n",
      "ComputerModellingGroup Calgary,AB\n",
      "SCIENTIFIC SOFTWARE DEVELOPMENT ENGINEER / SENIOR SIMULATION SCIENTIST Aug2013-Present\n",
      "•Workedondevelopment,maintenanceandsupportofGEM(Fortranbasedequation-of-statecompositionalsimulatorusedforthesimulation\n",
      "ofoil-gas-waterflow).\n",
      "•Developedand/orimprovedfeaturesforsimulationofaqueousreactions,mineralreactions,surfacecomplexation,pitzeractivitymodel,phase\n",
      "behavior,finesandproppants,single-componentisenthalpicflashcalculations.\n",
      "•Thesefeaturesareusedbyhundredsofenergycompaniesinordertoimprovedecisionmakingforreservoirmanagement.\n",
      "•ConsultingandSupport.\n",
      "ThePennsylvaniaStateUniversity StateCollege,PA\n",
      "RESEARCH ASSISTANT Aug. 2010-Apr. 2013\n",
      "•Introduced new algorithms that compute the number of physical phases and chemical compositions in an oil and gas reservoir. As these\n",
      "calculationsarerepeatedbillionsoftimesduringanumericalreservoirsimulation,stabilityandspeedofthesecalculationsareveryimportant.\n",
      "Thealgorithms,whichwerewritteninFortrancode,wereshowntobefasterandmorerobustthantheconventionalmethods.\n",
      "QuantumReservoirImpact Houston,TX\n",
      "SUMMER INTERN May. 2012-Aug. 2012\n",
      "•Developed an Enhanced Oil Recovery (EOR) Screening and Forecasting Toolbox built on completely programmatic Matlab GUI. The toolbox\n",
      "takesinseveralreservoir-specificinputsfromtheuserandcarriesoutvariousphysicalandcorrelationalcalculations. Oneofthefeaturesofthe\n",
      "toolistodecidewhichEORtechniqueismostsuitableforaparticularreservoir.\n",
      "ThePennsylvaniaStateUniversity StateCollege,PA\n",
      "TEACHING ASSISTANT Jan. 2009-Dec. 2011\n",
      "SelectedProjects\n",
      "ReinforcementLearning\n",
      "•Implemented PPO, Ape-X, A3C and DQN Deep Reinforcement Learning algorithms by using Rllib, and trained them in a multiagent Football\n",
      "environmentdevelopedbyGoogleResearch. CreatedaDockerimageataGoogleCloudVMfordevelopment. UsedTensorboardtovisualize\n",
      "trainingparameters.\n",
      "•Implemented Deep Q-Networks from scratch by using Pytorch. Trained the algorithm with continuous space discrete action Lunar Lander\n",
      "environmentbyOpenAIGym. TherocketsuccessfullylearnedtolandontheMoon.\n",
      "•DuplicatedTemporalDifferenceLearningbySutton(1988). SEETHEPROJECT\n",
      "MachineLearning\n",
      "•Developed3differentKerasbasedDLtoolsusingLSTMand/ordenselayerstoestimatemonthlyelectricityconsumptionforthenextyearasa\n",
      "functionofseveralfactorssuchasweather/homespecifications. UsedAWSLambdaandPostgrestocreatealinkthatwaseventuallyusedata\n",
      "website.\n",
      "•SupervisedLearningwithSklearn: Applied,comparedandcontrasteddecisiontree,neuralnetwork,AdaBoost,SVC,KNNontwodatasets.\n",
      "•RandomizedOptimizationwithMlrose: Usedrandomizedhillclimbing,simulatedannealing,genericalgorithmsandMIMICtosolven-queens,\n",
      "4-peaksandknapsackproblems.\n",
      "•UnsupervisedLearningandDimensionalityReductionwithSklearn: Combinedclusteringanddimensionalityreductiontechniquestoanalyze\n",
      "twodatasets.\n",
      "•Reinforcement Learning with OpenAI Gym and MDPToolbox: Applied, compared and contrasted three reinforcement learning algorithms on\n",
      "twoproblems. SEETHEPROJECT\n",
      "•Estimatedwhetherapersonearnsmorethan50kbasedonindividualdatausingsupervisedlearningmodelssuchassupportvectormachine,\n",
      "randomforestclassifier,logisticregression. SEETHEPROJECT\n",
      "MachineLearningForTrading\n",
      "•ImplementedLinearRegression,DecisionTree,BagLearning,Q-LearnerAlgorithmsfromscratch.\n",
      "•DevelopedaTradingStrategyToolbyfeedingTechnicalIndicatorsintoaDecision-TreebasedBagLearner. SEETHEPROJECT\n",
      "ArtificialIntelligence\n",
      "•Implemented Priority Queue, BreadthFirstSearch, UniformCost Search, A*, Bi-directionalSearch, Tri-directional Search, Adversarial Search,\n",
      "BayesianNetworks,DecisionTreesandForests,K-Means,GaussianMixturealgorithms.\n",
      "•ImplementedKalmanFilter,SimultaneousLocalizationandMapping(SLAM),ParticleFilter,ProportionalIntegrativeDerivative(PID)algorithms.DeepLearning\n",
      "•Used Facebook’s mmf api to implement multimodal Visual Bert and other visual-nlp architectures to identify hateful memes. The dataset\n",
      "containsimageswithtext. SEETHEPROJECT\n",
      "•CodedRNN,LSTM,Seq2SeqandTransformerswithPyTorch.\n",
      "•Implementedseveralvisualizationtechniquessuchassaliencymaps,guidedbackprop,gradcam. ImplementedStyletransfer.\n",
      "•WroteaCNNfromscratchwithPython.\n",
      "•UsedPytorchtodevelopadeeplearningmodelforadatasetthatcontainsimagesof10classes.\n",
      "•Createdalargerdeeplearningmodelfromasmallerpretrainedmodel. SEETHEPROJECT\n",
      "Education\n",
      "TheGeorgiaInstituteofTechnology Online\n",
      "M.SC. COMPUTER SCIENCE, GPA: 3.9/4.0 Apr2021-July2024\n",
      "•DeepLearning CNN,VisualizationofLayers,StyleTransfer,Embeddings,RNN,LSTM,Transformers,BERT\n",
      "•ReinforcementLearning Model-basedLearning,Model-freeLearning,TemporalDistance,FunctionApproximation,DeepQ-Network,POMDP,Semi-MDP,Game\n",
      "Theory\n",
      "•MachineLearning Supervised,UnsupervisedandReinforcementLearning\n",
      "•ArtificialIntelligenceforRobotics KalmanFilters,PID,SLAM,DynamicSearch,A*\n",
      "•Artificial Intelligence Tridirectional Search, Adversarial Search, Bayes Nets, Decision Trees and Forests, Constraint Satisfaction, Pattern Recognition Through\n",
      "Time,LogicandPlanning\n",
      "•MachineLearningforTrading Python,Numpy,Pandas,MatPlotLib,TechnicalAnalysisforFinance,DecisionTrees,Bagging,Q-Learning,Decision-Tree-Based\n",
      "OptionsTrading\n",
      "•DataandVisualAnalytics SQLite,Tableau,D3.js,Javascript,HTML,GCP,AWS,PySpark,Databricks,MicrosoftMachineLearningStudio,Scikit-Learn\n",
      "•GraduateAlgorithms DynamicProgramming,LinearProgramming,NP-Completeness,Graphs,DivideandConquer\n",
      "•NaturalLanguageProcessing RNN,LSTM,BERT,Self-Attention,Transformers\n",
      "•ComputerNetworks\n",
      "ThePennsylvaniaStateUniversity StateCollege,PA\n",
      "PHD. ENERGY AND MINERAL ENGINEERING, MINOR IN COMPUTATIONAL SCIENCE, GPA: 3.83/4.0 Aug2010-Dec2013\n",
      "•AreaofSpecialization Simulation,FluidBehavior\n",
      "•DissertationTitle ReducedPhaseBehaviorCalculationsforCompositionalSimulation\n",
      "ThePennsylvaniaStateUniversity StateCollege,PA\n",
      "M.SC. ENERGY AND MINERAL ENGINEERING, GPA: 3.88/4.0 Aug2008-Aug2010\n",
      "•AreaofSpecialization Simulation,MachineLearning\n",
      "•ThesisTopic ”OptimizationoftheDesignofTransverseFracturesinHorizontalWellsPlacedinDualPorosityTightGasReservoir”-MatlabisusedtocreateanANN\n",
      "toolthatpredictsgasproduction. Gasproductionwasoriginallygeneratedbyanumericalsimulator(IMEX).Further,areverseANNtooliscreatedtoestimatethe\n",
      "requiredwelldesignparametersgiventhereservoirpropertiesandthedesiredgasproduction.\n",
      "MiddleEastTechnicalUniversity Ankara,Turkey\n",
      "B.SC. ENGINEERING Sep2002-Jan2008\n",
      "Skills\n",
      "Languages Fortran,Python,Matlab,C++\n",
      "Libraries Tensorflow,PyTorch,Scikit-Learn,Numpy,Pandas,Matplotlib,Keras,OpenAIGym,HuggingFace\n",
      "DevelopmentTools VisualStudio,PyCharm,JupyterNotebook,Clearcase,Vim,Git,GoogleColab\n",
      "SelectedPublications(3of20)\n",
      "•Danget. al. (2020):”AIbasedmechanisticmodelingandprobabilisticforecastingofhybridlowsalinitychemicalflooding”,Fuel261,116445.\n",
      "•Danget. al.:”ApplicationofArtificialIntelligenceforMechanisticModelingandProbabilisticForecastingofHybridLowSalinityChemical\n",
      "Flooding”,presentedattheSPEAnnualTechnicalConferenceandExhibition,2018,Dallas,Texas.\n",
      "•GorucuS.E.,ErtekinT.:“OptimizationoftheDesignofTransverseHydraulicFracturesinHorizontalWellsPlacedinDualPorosityTightGas\n",
      "Reservoirs”,SPE142040,presentedatSPEMiddleEastUnconventionalGasConferenceandExhibition,2011,Muscat,Oman.\n"
     ]
    }
   ],
   "source": [
    "print(text)"
   ]
  },
  {
   "cell_type": "code",
   "execution_count": 5,
   "id": "2afc3ca4-d25e-4f0c-bffe-e47524b257c6",
   "metadata": {},
   "outputs": [],
   "source": [
    "import openai\n",
    "import os\n",
    "from openai import OpenAI\n",
    "OPENAI_API_KEY = os.getenv(\"OPENAI_API_KEY\")\n",
    "openai_client = OpenAI(api_key=OPENAI_API_KEY)"
   ]
  },
  {
   "cell_type": "code",
   "execution_count": 6,
   "id": "151767da-71cf-43ff-9fee-19feb425c340",
   "metadata": {},
   "outputs": [],
   "source": [
    "prompt = f\"\"\"Given the following ocr result from a resume, put it in a readable format.\n",
    "    OCR result\n",
    "    {text}\n",
    "\"\"\""
   ]
  },
  {
   "cell_type": "code",
   "execution_count": 7,
   "id": "b43f9b7c-aefc-4599-a97c-3940faec3999",
   "metadata": {},
   "outputs": [],
   "source": [
    "chat_response = openai_client.chat.completions.create(\n",
    "        model=\"gpt-4o\",  # Specify the GPT-4 model\n",
    "        messages=[\n",
    "            {\n",
    "                \"role\": \"user\",\n",
    "                \"content\": prompt\n",
    "            }\n",
    "        ],\n",
    "    )"
   ]
  },
  {
   "cell_type": "code",
   "execution_count": 8,
   "id": "d5e7e8da-032e-41d5-b334-89ded2a48833",
   "metadata": {},
   "outputs": [],
   "source": [
    "resume_clean = chat_response.choices[0].message.content"
   ]
  },
  {
   "cell_type": "code",
   "execution_count": 9,
   "id": "2c3811fc-8db9-4700-8db7-f690ebc32110",
   "metadata": {},
   "outputs": [
    {
     "name": "stdout",
     "output_type": "stream",
     "text": [
      "**Seyhan Emre Gorucu**  \n",
      "Calgary, AB, Canada  \n",
      "Phone: (403) 827-4222 | Email: segorucu@gmail.com  \n",
      "Canadian Citizen & US Green Card Holder  \n",
      "\n",
      "---\n",
      "\n",
      "**Work Experience**\n",
      "\n",
      "**Computer Modelling Group**  \n",
      "Calgary, AB  \n",
      "**Scientific Software Development Engineer / Senior Simulation Scientist**  \n",
      "August 2013 - Present  \n",
      "- Worked on development, maintenance, and support of GEM (Fortran-based equation-of-state compositional simulator used for the simulation of oil-gas-water flow).\n",
      "- Developed and/or improved features for simulation of aqueous reactions, mineral reactions, surface complexation, Pitzer activity model, phase behavior, fines and proppants, single-component isenthalpic flash calculations.\n",
      "- These features are used by hundreds of energy companies to improve decision-making for reservoir management.\n",
      "- Provided consulting and support.\n",
      "\n",
      "**The Pennsylvania State University**  \n",
      "State College, PA  \n",
      "**Research Assistant**  \n",
      "August 2010 - April 2013  \n",
      "- Introduced new algorithms that compute the number of physical phases and chemical compositions in an oil and gas reservoir. The algorithms, written in Fortran, proved to be faster and more robust than conventional methods due to their stability and speed, which are critical as these calculations are repeated billions of times during a numerical reservoir simulation.\n",
      "\n",
      "**Quantum Reservoir Impact**  \n",
      "Houston, TX  \n",
      "**Summer Intern**  \n",
      "May 2012 - August 2012  \n",
      "- Developed an Enhanced Oil Recovery (EOR) Screening and Forecasting Toolbox using a completely programmatic Matlab GUI. This tool processes reservoir-specific inputs and carries out various physical and correlational calculations, helping determine the most suitable EOR technique for particular reservoirs.\n",
      "\n",
      "**The Pennsylvania State University**  \n",
      "State College, PA  \n",
      "**Teaching Assistant**  \n",
      "January 2009 - December 2011  \n",
      "\n",
      "---\n",
      "\n",
      "**Selected Projects**\n",
      "\n",
      "**Reinforcement Learning**\n",
      "- Implemented PPO, Ape-X, A3C, and DQN Deep Reinforcement Learning algorithms using Rllib, and trained them in a multi-agent Football environment developed by Google Research. Developed on a Google Cloud VM using a Docker image. Visualized training parameters with Tensorboard.\n",
      "- Implemented Deep Q-Networks from scratch using PyTorch. Successfully trained the algorithm on the Lunar Lander environment by OpenAI Gym.\n",
      "- Duplicated Temporal Difference Learning by Sutton (1988).\n",
      "\n",
      "**Machine Learning**\n",
      "- Developed three Keras-based deep learning tools using LSTM and/or dense layers to predict monthly electricity consumption. Utilized AWS Lambda and PostgreSQL to link the tool to a website.\n",
      "- Applied, compared, and contrasted decision trees, neural networks, AdaBoost, SVC, KNN on two datasets using supervised learning with Sklearn.\n",
      "- Solved n-queens, 4-peaks, and knapsack problems using randomized optimization with Mlrose.\n",
      "- Conducted unsupervised learning and dimensionality reduction analysis on two datasets using Sklearn.\n",
      "- Applied reinforcement learning algorithms to problems using OpenAI Gym and MDP Toolbox.\n",
      "- Estimated income exceeding 50k based on individual data using supervised learning models.\n",
      "\n",
      "**Machine Learning for Trading**\n",
      "- Implemented Linear Regression, Decision Tree, Bag Learning, and Q-Learner Algorithms from scratch.\n",
      "- Developed a Trading Strategy Tool using Technical Indicators into a Decision-Tree-based Bag Learner.\n",
      "\n",
      "**Artificial Intelligence**\n",
      "- Implemented Priority Queue, Breadth First Search, Uniform Cost Search, A*, Bi-directional Search, Tri-directional Search, Adversarial Search, Bayesian Networks, Decision Trees, and Forests, K-Means, Gaussian Mixture algorithms.\n",
      "- Developed Kalman Filter, Simultaneous Localization and Mapping (SLAM), Particle Filter, Proportional Integrative Derivative (PID) algorithms.\n",
      "\n",
      "**Deep Learning**\n",
      "- Used Facebook’s mmf API to implement multimodal Visual Bert and other visual-nlp architectures to identify hateful memes.\n",
      "- Coded RNN, LSTM, Seq2Seq, and Transformers with PyTorch.\n",
      "- Implemented visualization techniques such as saliency maps, guided backprop, gradcam, and style transfer.\n",
      "- Developed a CNN from scratch with Python and created a large model from a smaller pretrained model.\n",
      "\n",
      "---\n",
      "\n",
      "**Education**\n",
      "\n",
      "**The Georgia Institute of Technology**  \n",
      "Online  \n",
      "**M.Sc. Computer Science**, GPA: 3.9/4.0  \n",
      "April 2021 - July 2024  \n",
      "- Deep Learning: CNN, Visualization of Layers, Style Transfer, Embeddings, RNN, LSTM, Transformers, BERT\n",
      "- Reinforcement Learning: Model-based & Model-free learning, Temporal Distance, Function Approximation, Deep Q-Network, POMDP, Semi-MDP, Game Theory\n",
      "- Machine Learning: Supervised, Unsupervised, and Reinforcement Learning\n",
      "- Artificial Intelligence for Robotics: Kalman Filters, PID, SLAM, Dynamic Search, A*\n",
      "- Artificial Intelligence: Tridirectional Search, Adversarial Search, Bayes Nets, Decision Trees and Forests, Constraint Satisfaction, Pattern Recognition, Logic, and Planning\n",
      "- Machine Learning for Trading: Python, Numpy, Pandas, Matplotlib, Technical Analysis for Finance\n",
      "- Data and Visual Analytics: SQLite, Tableau, D3.js, Javascript, HTML, GCP, AWS, PySpark, Databricks, Microsoft Machine Learning Studio, Scikit-Learn\n",
      "- Graduate Algorithms: Dynamic Programming, Linear Programming, NP-Completeness, Graphs, Divide and Conquer\n",
      "- Natural Language Processing: RNN, LSTM, BERT, Self-Attention, Transformers\n",
      "- Computer Networks\n",
      "\n",
      "**The Pennsylvania State University**  \n",
      "State College, PA  \n",
      "**Ph.D. Energy and Mineral Engineering**, Minor in Computational Science, GPA: 3.83/4.0  \n",
      "August 2010 - December 2013  \n",
      "- Specialization: Simulation, Fluid Behavior\n",
      "- Dissertation: Reduced Phase Behavior Calculations for Compositional Simulation\n",
      "\n",
      "**The Pennsylvania State University**  \n",
      "State College, PA  \n",
      "**M.Sc. Energy and Mineral Engineering**, GPA: 3.88/4.0  \n",
      "August 2008 - August 2010  \n",
      "- Specialization: Simulation, Machine Learning\n",
      "- Thesis: “Optimization of the Design of Transverse Fractures in Horizontal Wells Placed in Dual Porosity Tight Gas Reservoirs” - Developed an ANN tool using Matlab to predict gas production.\n",
      "\n",
      "**Middle East Technical University**  \n",
      "Ankara, Turkey  \n",
      "**B.Sc. Engineering**  \n",
      "September 2002 - January 2008  \n",
      "\n",
      "---\n",
      "\n",
      "**Skills**\n",
      "\n",
      "- **Languages**: Fortran, Python, Matlab, C++\n",
      "- **Libraries**: Tensorflow, PyTorch, Scikit-Learn, Numpy, Pandas, Matplotlib, Keras, OpenAI Gym, Hugging Face\n",
      "- **Development Tools**: Visual Studio, PyCharm, Jupyter Notebook, Clearcase, Vim, Git, Google Colab\n",
      "\n",
      "---\n",
      "\n",
      "**Selected Publications (3 of 20)**\n",
      "\n",
      "1. Dang et al. (2020): \"AI-based mechanistic modeling and probabilistic forecasting of hybrid low salinity chemical flooding\", Fuel 261, 116445.\n",
      "2. Dang et al.: \"Application of Artificial Intelligence for Mechanistic Modeling and Probabilistic Forecasting of Hybrid Low Salinity Chemical Flooding\", presented at the SPE Annual Technical Conference and Exhibition, 2018, Dallas, Texas.\n",
      "3. Gorucu S.E., Ertekin T.: \"Optimization of the Design of Transverse Hydraulic Fractures in Horizontal Wells Placed in Dual Porosity Tight Gas Reservoirs\", SPE 142040, presented at SPE Middle East Unconventional Gas Conference and Exhibition, 2011, Muscat, Oman.\n"
     ]
    }
   ],
   "source": [
    "print(resume_clean)"
   ]
  },
  {
   "cell_type": "code",
   "execution_count": 10,
   "id": "85757e75-9e92-421d-9c04-026c07725c80",
   "metadata": {},
   "outputs": [],
   "source": [
    "from elasticsearch import Elasticsearch"
   ]
  },
  {
   "cell_type": "code",
   "execution_count": 11,
   "id": "b3b0a631-f898-4324-ae06-464ac1aa1abf",
   "metadata": {},
   "outputs": [
    {
     "name": "stderr",
     "output_type": "stream",
     "text": [
      "C:\\Users\\segor\\miniconda3\\envs\\brave\\Lib\\site-packages\\elasticsearch\\_sync\\client\\__init__.py:402: SecurityWarning: Connecting to 'https://localhost:9200' using TLS with verify_certs=False is insecure\n",
      "  _transport = transport_class(\n"
     ]
    }
   ],
   "source": [
    "es_client = Elasticsearch(\n",
    "        ['https://localhost:9200'],\n",
    "        basic_auth=('elastic', 'elastic'),\n",
    "        verify_certs = False\n",
    "    )"
   ]
  },
  {
   "cell_type": "code",
   "execution_count": 29,
   "id": "ccc8d6ab-d51b-4ccb-99bf-5d999a28c587",
   "metadata": {},
   "outputs": [],
   "source": [
    "def get_matching_jobs(index_name, location, position):\n",
    "    query = {\n",
    "        \"query\": {\n",
    "            \"bool\": {\n",
    "                \"must\": [\n",
    "                    {\"match\": {\"location\": location}},\n",
    "                    {\"match\": {\"query\": position}}\n",
    "                ]\n",
    "            }\n",
    "        }\n",
    "    }\n",
    "    results = es_client.search(index=index_name, body=query, size=1000)\n",
    "    return results['hits']['hits']\n"
   ]
  },
  {
   "cell_type": "code",
   "execution_count": 30,
   "id": "8aaaa10d-1059-48b1-9cab-b8b3c4062c4e",
   "metadata": {},
   "outputs": [
    {
     "name": "stderr",
     "output_type": "stream",
     "text": [
      "C:\\Users\\segor\\AppData\\Local\\Temp\\ipykernel_25752\\1041610920.py:12: DeprecationWarning: Received 'size' via a specific parameter in the presence of a 'body' parameter, which is deprecated and will be removed in a future version. Instead, use only 'body' or only specific parameters.\n",
      "  results = es_client.search(index=index_name, body=query, size=1000)\n",
      "C:\\Users\\segor\\miniconda3\\envs\\brave\\Lib\\site-packages\\urllib3\\connectionpool.py:1099: InsecureRequestWarning: Unverified HTTPS request is being made to host 'localhost'. Adding certificate verification is strongly advised. See: https://urllib3.readthedocs.io/en/latest/advanced-usage.html#tls-warnings\n",
      "  warnings.warn(\n"
     ]
    }
   ],
   "source": [
    "jobs = get_matching_jobs(\"brave_project\",\"Toronto\", \"Machine Learning Engineer\")"
   ]
  },
  {
   "cell_type": "code",
   "execution_count": 31,
   "id": "b6310bb8-f8a6-4a67-aaff-e772ce9c09b5",
   "metadata": {},
   "outputs": [],
   "source": [
    "texts = [f\"job id: {i} Company name: {job['_source']['companyName']} Title: {job['_source']['title']} description: {job['_source']['description']}\" for i, job in enumerate(jobs)]"
   ]
  },
  {
   "cell_type": "code",
   "execution_count": 32,
   "id": "e0da6ef1-0b98-4cff-adbe-c9f10aac3754",
   "metadata": {},
   "outputs": [
    {
     "data": {
      "text/plain": [
       "\"job id: 0 Company name: Altus Group Title: Machine Learning Engineer (Remote) description: Job Category:\\nTechnology\\n\\nPay Grade Range:\\n$66,605.00 - $155,405.00\\n\\nDisclaimer: The base salary range represents the low and high end of Altus Group’s “Pay Grade Range” for this position in the primary work location. Actual hiring salaries will vary depending on factors including but not limited to work experience, and geographic market data for the role. The Pay Grade Range listed above does not reflect Altus Group’s total compensation for employees. Other rewards may include an annual bonus, flexible work arrangements, and region-specific benefits.\\n\\nUnlock your Altus Experience!\\n\\nIf you’re looking to advance your career in data analytics, expertise, and technology for the rapidly growing global CRE market, there’s no better place than Altus Group. At Altus, our work is purposeful. Every day, our employees drive impact, innovate, and shape the global commercial real estate (CRE) and PropTech industry.\\n\\nOur people-centric culture empowers you to deliver in a high trust, high performance culture, surrounded by an inclusive team that’s collaborating to modernize our industry. We invest in our people with training and growth opportunities designed to propel you further in your career while providing a flexible and progressive workplace that reflects our values and teams.\\n\\nJob Summary:\\n\\nAltus Group is seeking a Machine Learning (ML) Engineer to support Altus Labs, the firm's commercial real estate (CRE) hub for innovation, focused on applying new data, methodologies, and tech to drive better client investment and operating outcomes. As an ML Engineer, you will develop, deploy, and manage data pipelines and machine learning models, ensuring they are production-ready and scalable. You will collaborate with Data Scientists, Analysts, DevOps Engineers and other stakeholders to drive better client investment and operating outcomes through advanced machine learning techniques.\\n\\nKey Responsibilities:\\n• MLOps Strategy: Develop and implement MLOps strategies, best practices, and standards to enhance the efficiency of end-to-end model lifecycle activities.\\n• ML System Design and Development: Design and develop batch and streaming-based AI/ML pipelines including data ingestion, feature engineering, model training and scaled AI model compute.\\n• Data Integration: Integrate data from various sources, including structured and unstructured data, to create comprehensive datasets for analysis.\\n• Pipeline Development: Design, build, and maintain scalable data pipelines using Databricks, ensuring data is accessible and reliable with quality and version control for analytics and machine learning models; Create continuous integration (CI), continuous delivery (CD), and continuous training (CT) pipelines for ML systems to improve teams’ efficiency and ensure consistency and reproducibility of data and model pipelines.\\n• Model Development & Management: Develop and implement AI/ML models in collaboration with Data Scientists for better experiment tracking, and to set up the model registry to manage the model lifecycle including staging, serving, production and storing model artifacts.\\n• Model Deployment: Deploy models into production environments, ensuring they are scalable, reliable, and reusable.\\n• Model Monitoring: Monitor model performance, detect anomalies, and retrain models as necessary.\\n• Software Engineering: Write robust and efficient code to integrate ML models into applications and systems.\\n• Performance Optimization: Optimize machine learning models and data pipelines for compute, performance, efficiency and scalability, ensuring efficient data processing, model training and serving, with minimal downtime.\\n• Technical Leadership: Leading ML engineering and data pipeline projects through planning, execution, and delivery phases in partnership with stakeholders and team members.\\n• Stakeholder Communication: Communicating project status, risks, and outcomes with technical and business stakeholders, ensuring alignment on project goals and timelines.\\n• Collaboration: Working closely with Data Scientists to understand their modeling and data requirements and provide the necessary infrastructure and support.\\n• Documentation: Documenting ML models, data pipelines, processes, and best practices to ensure knowledge sharing and reproducibility across the team.\\n\\nKey Qualifications:\\n• Collaborative Communicator: You can work independently but enjoy collaborating with a broader team to share ideas, questions, and insights regarding machine learning and data engineering.\\n• Focused on Efficiency and Reliability: You focus on building data pipelines and ML systems/infrastructures that are efficient, reliable, and scalable, ensuring smooth data operations and robust model performance.\\n• Detail-Oriented Engineer: You are meticulous about model performance optimization, data quality, and setting standards for deployment, monitoring and governance.\\n• Skilled in writing production ready code: You have strong programming skills at least in Python, SQL, and Spark, and have prior hands-on experience to refactor the messy codes from Data Scientists to make it become production ready, which is unit tested, reusable, easily maintained and debugged. Having prior experience with Machine Learning Python libraries such as MLflow, TensorFlow, PyTorch, and Scikit-Learn is the plus\\n• Experienced in Versioning and Experiment Tracking: You know the best practice of using Github for branching strategy, code versioning and code review. You have hands-on experience using tools such as MLflow for experiment tracking and model registry, including tracking the model development process and saving code snapshots, model parameters, metrics, and other metadata. Having prior experience with Databricks Experiments is a plus.\\n• Experienced in AI/ML Model Deployment and Platform Engineering: You are comfortable to work with DevOps team and Data Scientists to understand Altus’s infrastructure and software/libraries/model inference requirements for testing and deploying AI/ML models in production so as to ensure seamless integration with existing systems/products, and to guide Data Scientists through the best practices. Having prior experience with Databricks Unity Catalog & Catalogs, Databricks Asset Bundles (DABs), containerization (e.g., Docker) is a plus.\\n• Experienced in Statistics Analysis/AI/Machine Learning: To facilitate the discussions with Data Scientists, you are familiar with (or can learn quickly) a range of statistical analysis and machine learning techniques, including hypothesis testing, linear/logistic regression, time series analysis, tree-based models, KNN, neural networks, clustering, and outlier/anomaly detection. Prior experience with NLP, transfer learning, large language models (LLMs), and Generative AI is a plus.\\n• 4+ years of experience working in an ML engineering or data engineering position.\\n• BS or MS degree in Computer Science, Engineering, Applied Mathematics, or a related technical field.\\n• Experience with financial or commercial real estate industry is a plus.\\n\\nWhat Altus Group offers:\\n• Rewarding performance: We are pleased to be able to provide employees competitive compensation, incentive and bonus plans, and a total rewards package that prioritizes their mental, physical and overall financial health.\\n• Growth and development: As a destination for top industry talent, we’re investing in you to meet the evolving needs of our clients and deliver on your professional goals. Our Altus Intelligence Academy offers over 150,000 hours of learning materials catering to diverse stages of an employee’s career journey.\\n• Flexible work model: We’re modernizing our employee programs to reflect the new world of work. Our Activity-Based Work model provides you with flexibility to align your work location to the work being performed - office for connecting and collaborating, and remote for focused work.\\n\\nAltus Group is committed to fostering an inclusive work environment where all clients and employees feel welcomed, accepted and valued. We provide an atmosphere free from barriers to promote diversity, equity, and inclusion, and encourage equal opportunities for all employees. We’re seeking candidates with diverse experiences and provide accessible candidate experiences throughout the selection process. If you need accommodation, please contact us at accessibility@altusgroup.com or +1 888 692 7487.\\n\\nWe appreciate all applicants who take the time to apply to Altus Group. Please note that only those who are selected to move forward in the process will be contacted. Thank you.\""
      ]
     },
     "execution_count": 32,
     "metadata": {},
     "output_type": "execute_result"
    }
   ],
   "source": [
    "texts[0]"
   ]
  },
  {
   "cell_type": "code",
   "execution_count": 24,
   "id": "f1ecfe3b-695c-424a-b294-ea1cb902a024",
   "metadata": {},
   "outputs": [],
   "source": [
    "from langchain_openai import ChatOpenAI\n",
    "from langchain_chroma import Chroma\n",
    "from langchain import hub\n",
    "from typing_extensions import List, TypedDict\n",
    "from langchain_core.documents import Document\n",
    "from langgraph.graph import START, StateGraph\n",
    "from langchain.embeddings import OpenAIEmbeddings\n",
    "llm = ChatOpenAI(model=\"gpt-4o\")\n",
    "embeddings = OpenAIEmbeddings()\n",
    "vector_store = Chroma.from_texts(texts, embeddings)\n",
    "prompt = hub.pull(\"rlm/rag-prompt\")"
   ]
  },
  {
   "cell_type": "code",
   "execution_count": 25,
   "id": "78abf9e2-b266-4df2-977b-e6db0decfa89",
   "metadata": {},
   "outputs": [],
   "source": [
    "# Define state for application\n",
    "class State(TypedDict):\n",
    "    question: str\n",
    "    context: List[Document]\n",
    "    answer: str\n",
    "\n",
    "\n",
    "# Define application steps\n",
    "def retrieve(state: State):\n",
    "    retrieved_docs = vector_store.similarity_search(state[\"question\"])\n",
    "    return {\"context\": retrieved_docs}\n",
    "\n",
    "\n",
    "def generate(state: State):\n",
    "    docs_content = \"\\n\\n\".join(doc.page_content for doc in state[\"context\"])\n",
    "    messages = prompt.invoke({\"question\": state[\"question\"], \"context\": docs_content})\n",
    "    response = llm.invoke(messages)\n",
    "    return {\"answer\": response.content}\n",
    "\n",
    "graph_builder = StateGraph(State).add_sequence([retrieve, generate])\n",
    "graph_builder.add_edge(START, \"retrieve\")\n",
    "graph = graph_builder.compile()"
   ]
  },
  {
   "cell_type": "code",
   "execution_count": 26,
   "id": "0ea0ef66-0dbc-48d1-9db0-10bece7ab134",
   "metadata": {},
   "outputs": [],
   "source": [
    "question = f\"Given the following resume: {resume_clean} and list of jobs {texts}, analyze which jobs match the resume better. Return the ids, company names, job titles and summaries of the 3 best matching jobs.\""
   ]
  },
  {
   "cell_type": "code",
   "execution_count": 27,
   "id": "32c53b2b-5ecc-4d1d-964d-32c4d51139b7",
   "metadata": {},
   "outputs": [],
   "source": [
    "response = graph.invoke({\"question\": question})"
   ]
  },
  {
   "cell_type": "code",
   "execution_count": 28,
   "id": "ca638c00-f017-4404-9e9a-ef81d8dbc833",
   "metadata": {},
   "outputs": [
    {
     "name": "stdout",
     "output_type": "stream",
     "text": [
      "1. **Job ID: 0, Company Name: Altus Group, Job Title: Machine Learning Engineer (Remote)**  \n",
      "   Summary: Altus Group is seeking a Machine Learning Engineer to support Altus Labs, focused on developing and managing scalable data pipelines and machine learning models to drive better client investment and operating outcomes in the commercial real estate market. The role involves collaboration with Data Scientists, Analysts, and DevOps Engineers, emphasizing MLOps strategies, model development, deployment, and performance optimization.\n",
      "\n",
      "2. **Job ID: 7, Company Name: Gusto, Job Title: Machine Learning Engineer, Payments & Risk**  \n",
      "   Summary: Gusto is looking for a technical leader to drive machine learning and AI in the payment and risk domains, building a model-driven risk platform and collaborating with cross-functional teams to enhance Gusto's products. The role requires deploying predictive models, developing scalable frameworks, and leveraging data to improve risk management, with a focus on statistical analyses and model development.\n",
      "\n",
      "3. **Job ID: 1, Company Name: Kraft-Heinz, Job Title: Machine Learning Engineer Lead**  \n",
      "   Summary: Kraft Heinz seeks a Machine Learning Engineer Group Lead to manage and develop the ML Engineering group, responsible for implementing machine learning algorithms, collaborating with data scientists, and improving existing models. The role involves managing technical teams and budgets, enhancing analytical capabilities, and supporting ML models in a cloud environment, with a focus on CI/CD pipelines and version control.\n"
     ]
    }
   ],
   "source": [
    "print(response[\"answer\"])"
   ]
  },
  {
   "cell_type": "code",
   "execution_count": null,
   "id": "473a629d-679d-4549-b723-c0b357f27d78",
   "metadata": {},
   "outputs": [],
   "source": []
  }
 ],
 "metadata": {
  "kernelspec": {
   "display_name": "Python 3 (ipykernel)",
   "language": "python",
   "name": "python3"
  },
  "language_info": {
   "codemirror_mode": {
    "name": "ipython",
    "version": 3
   },
   "file_extension": ".py",
   "mimetype": "text/x-python",
   "name": "python",
   "nbconvert_exporter": "python",
   "pygments_lexer": "ipython3",
   "version": "3.12.7"
  }
 },
 "nbformat": 4,
 "nbformat_minor": 5
}
